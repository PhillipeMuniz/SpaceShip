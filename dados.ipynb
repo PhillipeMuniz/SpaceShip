{
 "cells": [
  {
   "cell_type": "code",
   "execution_count": 1,
   "metadata": {},
   "outputs": [],
   "source": [
    "import pandas as pd\n",
    "import numpy as np\n",
    "import seaborn as sns\n",
    "import matplotlib.pyplot as plt"
   ]
  },
  {
   "attachments": {},
   "cell_type": "markdown",
   "metadata": {},
   "source": [
    "## Dados de Treino"
   ]
  },
  {
   "cell_type": "code",
   "execution_count": 2,
   "metadata": {},
   "outputs": [
    {
     "data": {
      "text/html": [
       "<div>\n",
       "<style scoped>\n",
       "    .dataframe tbody tr th:only-of-type {\n",
       "        vertical-align: middle;\n",
       "    }\n",
       "\n",
       "    .dataframe tbody tr th {\n",
       "        vertical-align: top;\n",
       "    }\n",
       "\n",
       "    .dataframe thead th {\n",
       "        text-align: right;\n",
       "    }\n",
       "</style>\n",
       "<table border=\"1\" class=\"dataframe\">\n",
       "  <thead>\n",
       "    <tr style=\"text-align: right;\">\n",
       "      <th></th>\n",
       "      <th>PassengerId</th>\n",
       "      <th>HomePlanet</th>\n",
       "      <th>CryoSleep</th>\n",
       "      <th>Cabin</th>\n",
       "      <th>Destination</th>\n",
       "      <th>Age</th>\n",
       "      <th>VIP</th>\n",
       "      <th>RoomService</th>\n",
       "      <th>FoodCourt</th>\n",
       "      <th>ShoppingMall</th>\n",
       "      <th>Spa</th>\n",
       "      <th>VRDeck</th>\n",
       "      <th>Name</th>\n",
       "      <th>Transported</th>\n",
       "    </tr>\n",
       "  </thead>\n",
       "  <tbody>\n",
       "    <tr>\n",
       "      <th>0</th>\n",
       "      <td>0001_01</td>\n",
       "      <td>Europa</td>\n",
       "      <td>False</td>\n",
       "      <td>B/0/P</td>\n",
       "      <td>TRAPPIST-1e</td>\n",
       "      <td>39.0</td>\n",
       "      <td>False</td>\n",
       "      <td>0.0</td>\n",
       "      <td>0.0</td>\n",
       "      <td>0.0</td>\n",
       "      <td>0.0</td>\n",
       "      <td>0.0</td>\n",
       "      <td>Maham Ofracculy</td>\n",
       "      <td>False</td>\n",
       "    </tr>\n",
       "    <tr>\n",
       "      <th>1</th>\n",
       "      <td>0002_01</td>\n",
       "      <td>Earth</td>\n",
       "      <td>False</td>\n",
       "      <td>F/0/S</td>\n",
       "      <td>TRAPPIST-1e</td>\n",
       "      <td>24.0</td>\n",
       "      <td>False</td>\n",
       "      <td>109.0</td>\n",
       "      <td>9.0</td>\n",
       "      <td>25.0</td>\n",
       "      <td>549.0</td>\n",
       "      <td>44.0</td>\n",
       "      <td>Juanna Vines</td>\n",
       "      <td>True</td>\n",
       "    </tr>\n",
       "    <tr>\n",
       "      <th>2</th>\n",
       "      <td>0003_01</td>\n",
       "      <td>Europa</td>\n",
       "      <td>False</td>\n",
       "      <td>A/0/S</td>\n",
       "      <td>TRAPPIST-1e</td>\n",
       "      <td>58.0</td>\n",
       "      <td>True</td>\n",
       "      <td>43.0</td>\n",
       "      <td>3576.0</td>\n",
       "      <td>0.0</td>\n",
       "      <td>6715.0</td>\n",
       "      <td>49.0</td>\n",
       "      <td>Altark Susent</td>\n",
       "      <td>False</td>\n",
       "    </tr>\n",
       "    <tr>\n",
       "      <th>3</th>\n",
       "      <td>0003_02</td>\n",
       "      <td>Europa</td>\n",
       "      <td>False</td>\n",
       "      <td>A/0/S</td>\n",
       "      <td>TRAPPIST-1e</td>\n",
       "      <td>33.0</td>\n",
       "      <td>False</td>\n",
       "      <td>0.0</td>\n",
       "      <td>1283.0</td>\n",
       "      <td>371.0</td>\n",
       "      <td>3329.0</td>\n",
       "      <td>193.0</td>\n",
       "      <td>Solam Susent</td>\n",
       "      <td>False</td>\n",
       "    </tr>\n",
       "    <tr>\n",
       "      <th>4</th>\n",
       "      <td>0004_01</td>\n",
       "      <td>Earth</td>\n",
       "      <td>False</td>\n",
       "      <td>F/1/S</td>\n",
       "      <td>TRAPPIST-1e</td>\n",
       "      <td>16.0</td>\n",
       "      <td>False</td>\n",
       "      <td>303.0</td>\n",
       "      <td>70.0</td>\n",
       "      <td>151.0</td>\n",
       "      <td>565.0</td>\n",
       "      <td>2.0</td>\n",
       "      <td>Willy Santantines</td>\n",
       "      <td>True</td>\n",
       "    </tr>\n",
       "    <tr>\n",
       "      <th>...</th>\n",
       "      <td>...</td>\n",
       "      <td>...</td>\n",
       "      <td>...</td>\n",
       "      <td>...</td>\n",
       "      <td>...</td>\n",
       "      <td>...</td>\n",
       "      <td>...</td>\n",
       "      <td>...</td>\n",
       "      <td>...</td>\n",
       "      <td>...</td>\n",
       "      <td>...</td>\n",
       "      <td>...</td>\n",
       "      <td>...</td>\n",
       "      <td>...</td>\n",
       "    </tr>\n",
       "    <tr>\n",
       "      <th>8688</th>\n",
       "      <td>9276_01</td>\n",
       "      <td>Europa</td>\n",
       "      <td>False</td>\n",
       "      <td>A/98/P</td>\n",
       "      <td>55 Cancri e</td>\n",
       "      <td>41.0</td>\n",
       "      <td>True</td>\n",
       "      <td>0.0</td>\n",
       "      <td>6819.0</td>\n",
       "      <td>0.0</td>\n",
       "      <td>1643.0</td>\n",
       "      <td>74.0</td>\n",
       "      <td>Gravior Noxnuther</td>\n",
       "      <td>False</td>\n",
       "    </tr>\n",
       "    <tr>\n",
       "      <th>8689</th>\n",
       "      <td>9278_01</td>\n",
       "      <td>Earth</td>\n",
       "      <td>True</td>\n",
       "      <td>G/1499/S</td>\n",
       "      <td>PSO J318.5-22</td>\n",
       "      <td>18.0</td>\n",
       "      <td>False</td>\n",
       "      <td>0.0</td>\n",
       "      <td>0.0</td>\n",
       "      <td>0.0</td>\n",
       "      <td>0.0</td>\n",
       "      <td>0.0</td>\n",
       "      <td>Kurta Mondalley</td>\n",
       "      <td>False</td>\n",
       "    </tr>\n",
       "    <tr>\n",
       "      <th>8690</th>\n",
       "      <td>9279_01</td>\n",
       "      <td>Earth</td>\n",
       "      <td>False</td>\n",
       "      <td>G/1500/S</td>\n",
       "      <td>TRAPPIST-1e</td>\n",
       "      <td>26.0</td>\n",
       "      <td>False</td>\n",
       "      <td>0.0</td>\n",
       "      <td>0.0</td>\n",
       "      <td>1872.0</td>\n",
       "      <td>1.0</td>\n",
       "      <td>0.0</td>\n",
       "      <td>Fayey Connon</td>\n",
       "      <td>True</td>\n",
       "    </tr>\n",
       "    <tr>\n",
       "      <th>8691</th>\n",
       "      <td>9280_01</td>\n",
       "      <td>Europa</td>\n",
       "      <td>False</td>\n",
       "      <td>E/608/S</td>\n",
       "      <td>55 Cancri e</td>\n",
       "      <td>32.0</td>\n",
       "      <td>False</td>\n",
       "      <td>0.0</td>\n",
       "      <td>1049.0</td>\n",
       "      <td>0.0</td>\n",
       "      <td>353.0</td>\n",
       "      <td>3235.0</td>\n",
       "      <td>Celeon Hontichre</td>\n",
       "      <td>False</td>\n",
       "    </tr>\n",
       "    <tr>\n",
       "      <th>8692</th>\n",
       "      <td>9280_02</td>\n",
       "      <td>Europa</td>\n",
       "      <td>False</td>\n",
       "      <td>E/608/S</td>\n",
       "      <td>TRAPPIST-1e</td>\n",
       "      <td>44.0</td>\n",
       "      <td>False</td>\n",
       "      <td>126.0</td>\n",
       "      <td>4688.0</td>\n",
       "      <td>0.0</td>\n",
       "      <td>0.0</td>\n",
       "      <td>12.0</td>\n",
       "      <td>Propsh Hontichre</td>\n",
       "      <td>True</td>\n",
       "    </tr>\n",
       "  </tbody>\n",
       "</table>\n",
       "<p>8693 rows × 14 columns</p>\n",
       "</div>"
      ],
      "text/plain": [
       "     PassengerId HomePlanet CryoSleep     Cabin    Destination   Age    VIP  \\\n",
       "0        0001_01     Europa     False     B/0/P    TRAPPIST-1e  39.0  False   \n",
       "1        0002_01      Earth     False     F/0/S    TRAPPIST-1e  24.0  False   \n",
       "2        0003_01     Europa     False     A/0/S    TRAPPIST-1e  58.0   True   \n",
       "3        0003_02     Europa     False     A/0/S    TRAPPIST-1e  33.0  False   \n",
       "4        0004_01      Earth     False     F/1/S    TRAPPIST-1e  16.0  False   \n",
       "...          ...        ...       ...       ...            ...   ...    ...   \n",
       "8688     9276_01     Europa     False    A/98/P    55 Cancri e  41.0   True   \n",
       "8689     9278_01      Earth      True  G/1499/S  PSO J318.5-22  18.0  False   \n",
       "8690     9279_01      Earth     False  G/1500/S    TRAPPIST-1e  26.0  False   \n",
       "8691     9280_01     Europa     False   E/608/S    55 Cancri e  32.0  False   \n",
       "8692     9280_02     Europa     False   E/608/S    TRAPPIST-1e  44.0  False   \n",
       "\n",
       "      RoomService  FoodCourt  ShoppingMall     Spa  VRDeck               Name  \\\n",
       "0             0.0        0.0           0.0     0.0     0.0    Maham Ofracculy   \n",
       "1           109.0        9.0          25.0   549.0    44.0       Juanna Vines   \n",
       "2            43.0     3576.0           0.0  6715.0    49.0      Altark Susent   \n",
       "3             0.0     1283.0         371.0  3329.0   193.0       Solam Susent   \n",
       "4           303.0       70.0         151.0   565.0     2.0  Willy Santantines   \n",
       "...           ...        ...           ...     ...     ...                ...   \n",
       "8688          0.0     6819.0           0.0  1643.0    74.0  Gravior Noxnuther   \n",
       "8689          0.0        0.0           0.0     0.0     0.0    Kurta Mondalley   \n",
       "8690          0.0        0.0        1872.0     1.0     0.0       Fayey Connon   \n",
       "8691          0.0     1049.0           0.0   353.0  3235.0   Celeon Hontichre   \n",
       "8692        126.0     4688.0           0.0     0.0    12.0   Propsh Hontichre   \n",
       "\n",
       "      Transported  \n",
       "0           False  \n",
       "1            True  \n",
       "2           False  \n",
       "3           False  \n",
       "4            True  \n",
       "...           ...  \n",
       "8688        False  \n",
       "8689        False  \n",
       "8690         True  \n",
       "8691        False  \n",
       "8692         True  \n",
       "\n",
       "[8693 rows x 14 columns]"
      ]
     },
     "execution_count": 2,
     "metadata": {},
     "output_type": "execute_result"
    }
   ],
   "source": [
    "train = pd.read_csv(\"train.csv\")\n",
    "test = pd.read_csv(\"test.csv\")\n",
    "train"
   ]
  },
  {
   "attachments": {},
   "cell_type": "markdown",
   "metadata": {},
   "source": [
    "Criando uma função para obter os informação do dataframe"
   ]
  },
  {
   "cell_type": "code",
   "execution_count": 3,
   "metadata": {},
   "outputs": [],
   "source": [
    "def df_informacoes(df):\n",
    "    df_info = pd.DataFrame({'Não Nulos': df.notnull().sum(),\n",
    "                'Nulos': df.isnull().sum(),\n",
    "                '% Nulos': ((df.isnull().sum()/df.notnull().sum())*100).round(2),                         \n",
    "                'Unicos': df.nunique(),                  \n",
    "                'Dtype': df.dtypes})\n",
    "    df_info.index.name = 'Columns'\n",
    "    return df_info\n"
   ]
  },
  {
   "cell_type": "code",
   "execution_count": 4,
   "metadata": {},
   "outputs": [
    {
     "data": {
      "text/html": [
       "<div>\n",
       "<style scoped>\n",
       "    .dataframe tbody tr th:only-of-type {\n",
       "        vertical-align: middle;\n",
       "    }\n",
       "\n",
       "    .dataframe tbody tr th {\n",
       "        vertical-align: top;\n",
       "    }\n",
       "\n",
       "    .dataframe thead th {\n",
       "        text-align: right;\n",
       "    }\n",
       "</style>\n",
       "<table border=\"1\" class=\"dataframe\">\n",
       "  <thead>\n",
       "    <tr style=\"text-align: right;\">\n",
       "      <th></th>\n",
       "      <th>Não Nulos</th>\n",
       "      <th>Nulos</th>\n",
       "      <th>% Nulos</th>\n",
       "      <th>Unicos</th>\n",
       "      <th>Dtype</th>\n",
       "    </tr>\n",
       "    <tr>\n",
       "      <th>Columns</th>\n",
       "      <th></th>\n",
       "      <th></th>\n",
       "      <th></th>\n",
       "      <th></th>\n",
       "      <th></th>\n",
       "    </tr>\n",
       "  </thead>\n",
       "  <tbody>\n",
       "    <tr>\n",
       "      <th>PassengerId</th>\n",
       "      <td>8693</td>\n",
       "      <td>0</td>\n",
       "      <td>0.00</td>\n",
       "      <td>8693</td>\n",
       "      <td>object</td>\n",
       "    </tr>\n",
       "    <tr>\n",
       "      <th>HomePlanet</th>\n",
       "      <td>8492</td>\n",
       "      <td>201</td>\n",
       "      <td>2.37</td>\n",
       "      <td>3</td>\n",
       "      <td>object</td>\n",
       "    </tr>\n",
       "    <tr>\n",
       "      <th>CryoSleep</th>\n",
       "      <td>8476</td>\n",
       "      <td>217</td>\n",
       "      <td>2.56</td>\n",
       "      <td>2</td>\n",
       "      <td>object</td>\n",
       "    </tr>\n",
       "    <tr>\n",
       "      <th>Cabin</th>\n",
       "      <td>8494</td>\n",
       "      <td>199</td>\n",
       "      <td>2.34</td>\n",
       "      <td>6560</td>\n",
       "      <td>object</td>\n",
       "    </tr>\n",
       "    <tr>\n",
       "      <th>Destination</th>\n",
       "      <td>8511</td>\n",
       "      <td>182</td>\n",
       "      <td>2.14</td>\n",
       "      <td>3</td>\n",
       "      <td>object</td>\n",
       "    </tr>\n",
       "    <tr>\n",
       "      <th>Age</th>\n",
       "      <td>8514</td>\n",
       "      <td>179</td>\n",
       "      <td>2.10</td>\n",
       "      <td>80</td>\n",
       "      <td>float64</td>\n",
       "    </tr>\n",
       "    <tr>\n",
       "      <th>VIP</th>\n",
       "      <td>8490</td>\n",
       "      <td>203</td>\n",
       "      <td>2.39</td>\n",
       "      <td>2</td>\n",
       "      <td>object</td>\n",
       "    </tr>\n",
       "    <tr>\n",
       "      <th>RoomService</th>\n",
       "      <td>8512</td>\n",
       "      <td>181</td>\n",
       "      <td>2.13</td>\n",
       "      <td>1273</td>\n",
       "      <td>float64</td>\n",
       "    </tr>\n",
       "    <tr>\n",
       "      <th>FoodCourt</th>\n",
       "      <td>8510</td>\n",
       "      <td>183</td>\n",
       "      <td>2.15</td>\n",
       "      <td>1507</td>\n",
       "      <td>float64</td>\n",
       "    </tr>\n",
       "    <tr>\n",
       "      <th>ShoppingMall</th>\n",
       "      <td>8485</td>\n",
       "      <td>208</td>\n",
       "      <td>2.45</td>\n",
       "      <td>1115</td>\n",
       "      <td>float64</td>\n",
       "    </tr>\n",
       "    <tr>\n",
       "      <th>Spa</th>\n",
       "      <td>8510</td>\n",
       "      <td>183</td>\n",
       "      <td>2.15</td>\n",
       "      <td>1327</td>\n",
       "      <td>float64</td>\n",
       "    </tr>\n",
       "    <tr>\n",
       "      <th>VRDeck</th>\n",
       "      <td>8505</td>\n",
       "      <td>188</td>\n",
       "      <td>2.21</td>\n",
       "      <td>1306</td>\n",
       "      <td>float64</td>\n",
       "    </tr>\n",
       "    <tr>\n",
       "      <th>Name</th>\n",
       "      <td>8493</td>\n",
       "      <td>200</td>\n",
       "      <td>2.35</td>\n",
       "      <td>8473</td>\n",
       "      <td>object</td>\n",
       "    </tr>\n",
       "    <tr>\n",
       "      <th>Transported</th>\n",
       "      <td>8693</td>\n",
       "      <td>0</td>\n",
       "      <td>0.00</td>\n",
       "      <td>2</td>\n",
       "      <td>bool</td>\n",
       "    </tr>\n",
       "  </tbody>\n",
       "</table>\n",
       "</div>"
      ],
      "text/plain": [
       "              Não Nulos  Nulos  % Nulos  Unicos    Dtype\n",
       "Columns                                                 \n",
       "PassengerId        8693      0     0.00    8693   object\n",
       "HomePlanet         8492    201     2.37       3   object\n",
       "CryoSleep          8476    217     2.56       2   object\n",
       "Cabin              8494    199     2.34    6560   object\n",
       "Destination        8511    182     2.14       3   object\n",
       "Age                8514    179     2.10      80  float64\n",
       "VIP                8490    203     2.39       2   object\n",
       "RoomService        8512    181     2.13    1273  float64\n",
       "FoodCourt          8510    183     2.15    1507  float64\n",
       "ShoppingMall       8485    208     2.45    1115  float64\n",
       "Spa                8510    183     2.15    1327  float64\n",
       "VRDeck             8505    188     2.21    1306  float64\n",
       "Name               8493    200     2.35    8473   object\n",
       "Transported        8693      0     0.00       2     bool"
      ]
     },
     "execution_count": 4,
     "metadata": {},
     "output_type": "execute_result"
    }
   ],
   "source": [
    "df_informacoes(train)"
   ]
  },
  {
   "attachments": {},
   "cell_type": "markdown",
   "metadata": {},
   "source": [
    "Substituindo os valores nulos pela media dos valores\n",
    "\n",
    "columns = ['RoomService', 'FoodCourt', 'ShoppingMall', 'Spa', 'VRDeck']"
   ]
  },
  {
   "cell_type": "code",
   "execution_count": 5,
   "metadata": {},
   "outputs": [
    {
     "name": "stdout",
     "output_type": "stream",
     "text": [
      "RoomService     0\n",
      "FoodCourt       0\n",
      "ShoppingMall    0\n",
      "Spa             0\n",
      "VRDeck          0\n",
      "dtype: int64\n"
     ]
    }
   ],
   "source": [
    "def convert_float_to_int(train, columns):\n",
    "    for column in columns:\n",
    "        float_array = np.mean(train[column])\n",
    "        train[column].fillna(float_array,inplace= True)\n",
    "    return train\n",
    "\n",
    "columns = ['RoomService', 'FoodCourt', 'ShoppingMall', 'Spa', 'VRDeck']\n",
    "convert_float_to_int(train, columns)\n",
    "print(train[columns].isna().sum())"
   ]
  },
  {
   "attachments": {},
   "cell_type": "markdown",
   "metadata": {},
   "source": [
    "Trabalhei na variável CryoSleep e Vip -- Criei um dicionário -- Substitui os valores nulos por False = 0"
   ]
  },
  {
   "cell_type": "code",
   "execution_count": 6,
   "metadata": {},
   "outputs": [],
   "source": [
    "train['CryoSleep'].replace({True: 1, False: 0}, inplace=True)\n",
    "train['VIP'].replace({True: 1, False: 0}, inplace=True)\n",
    "\n",
    "#A proporção que aparecia o valor 0 era muito superior\n",
    "\n",
    "train['CryoSleep'].fillna(False, inplace=True)\n",
    "train['VIP'].fillna(False, inplace=True)"
   ]
  },
  {
   "attachments": {},
   "cell_type": "markdown",
   "metadata": {},
   "source": [
    "Tratando a variável HomePlanet"
   ]
  },
  {
   "cell_type": "code",
   "execution_count": 7,
   "metadata": {},
   "outputs": [
    {
     "data": {
      "text/plain": [
       "0    Earth\n",
       "dtype: object"
      ]
     },
     "execution_count": 7,
     "metadata": {},
     "output_type": "execute_result"
    }
   ],
   "source": [
    "train['HomePlanet'].mode() #valor que mais apareceu"
   ]
  },
  {
   "cell_type": "code",
   "execution_count": 8,
   "metadata": {},
   "outputs": [],
   "source": [
    "train['HomePlanet'].fillna(train['HomePlanet'].mode()[0] ,inplace=True) #substituir pelo valor que mais apareceu"
   ]
  },
  {
   "cell_type": "code",
   "execution_count": 9,
   "metadata": {},
   "outputs": [
    {
     "data": {
      "text/plain": [
       "array(['Europa', 'Earth', 'Mars'], dtype=object)"
      ]
     },
     "execution_count": 9,
     "metadata": {},
     "output_type": "execute_result"
    }
   ],
   "source": [
    "train['HomePlanet'].unique()"
   ]
  },
  {
   "cell_type": "code",
   "execution_count": 10,
   "metadata": {},
   "outputs": [],
   "source": [
    "#transformar a variavel HomePlanet\n",
    "def transformar_HomePlanet(valor):\n",
    "    if valor == 'Europa':\n",
    "        return 2\n",
    "    if valor == 'Mars':\n",
    "        return 1\n",
    "    else:\n",
    "        return 0\n",
    "    \n",
    "train['HomePlanet'] = train['HomePlanet'].map(transformar_HomePlanet)\n"
   ]
  },
  {
   "attachments": {},
   "cell_type": "markdown",
   "metadata": {},
   "source": [
    "Tratando a variável Destination"
   ]
  },
  {
   "cell_type": "code",
   "execution_count": 11,
   "metadata": {},
   "outputs": [
    {
     "data": {
      "text/plain": [
       "array(['TRAPPIST-1e', 'PSO J318.5-22', '55 Cancri e', nan], dtype=object)"
      ]
     },
     "execution_count": 11,
     "metadata": {},
     "output_type": "execute_result"
    }
   ],
   "source": [
    "train['Destination'].unique()"
   ]
  },
  {
   "cell_type": "code",
   "execution_count": 12,
   "metadata": {},
   "outputs": [],
   "source": [
    "train['Destination'].fillna(train['Destination'].mode()[0] ,inplace=True)"
   ]
  },
  {
   "cell_type": "code",
   "execution_count": 13,
   "metadata": {},
   "outputs": [],
   "source": [
    "#transformar a variavel Destination\n",
    "def transformar_Destination(valor):\n",
    "    if valor == 'TRAPPIST-1e':\n",
    "        return 2\n",
    "    if valor == 'PSO J318.5-22':\n",
    "        return 1\n",
    "    else:\n",
    "        return 0\n",
    "    \n",
    "train['Destination'] = train['Destination'].map(transformar_Destination)\n"
   ]
  },
  {
   "attachments": {},
   "cell_type": "markdown",
   "metadata": {},
   "source": [
    "Criando novas variáveis para o HomePlanet"
   ]
  },
  {
   "cell_type": "code",
   "execution_count": 14,
   "metadata": {},
   "outputs": [],
   "source": [
    "col_dummies = pd.get_dummies(train['HomePlanet'], prefix='Home', columns=['Europa', 'Earth', 'Mars'])\n",
    "train = train.join(col_dummies)\n",
    "\n",
    "#renomear\n",
    "train.rename(columns={'Home_0':'Home_Earth','Home_1':'Home_Mars','Home_2':'Home_Europa'}, inplace=True)\n",
    "train.drop('HomePlanet', axis=1,inplace=True) #apagar a coluna"
   ]
  },
  {
   "attachments": {},
   "cell_type": "markdown",
   "metadata": {},
   "source": [
    "Criando novas variáveis para o Destination"
   ]
  },
  {
   "cell_type": "code",
   "execution_count": 15,
   "metadata": {},
   "outputs": [],
   "source": [
    "col_dummies = pd.get_dummies(train['Destination'], prefix='Dest', columns=['TRAPPIST-1e', 'PSO J318.5-22', '55 Cancri e'])\n",
    "train = train.join(col_dummies)\n",
    "\n",
    "#renomear\n",
    "train.rename(columns={'Dest_0':'Dest_55 Cancri e','Dest_1':'Dest_PSO J318.5-22','Dest_2':'Dest_TRAPPIST-1e'}, inplace=True)\n",
    "train.drop('Destination', axis=1,inplace=True) #apagar a coluna"
   ]
  },
  {
   "attachments": {},
   "cell_type": "markdown",
   "metadata": {},
   "source": [
    "Processo para descobrir qual a melhor variável para ajustar a variável Age"
   ]
  },
  {
   "cell_type": "code",
   "execution_count": 16,
   "metadata": {},
   "outputs": [],
   "source": [
    "cat_features = ['Home_Earth','Home_Mars','Home_Europa','CryoSleep','Dest_55 Cancri e','Dest_PSO J318.5-22','Dest_TRAPPIST-1e','VIP']"
   ]
  },
  {
   "cell_type": "code",
   "execution_count": 17,
   "metadata": {},
   "outputs": [
    {
     "data": {
      "image/png": "[encoded data removed]",
      "text/plain": [
       "<Figure size 1000x1500 with 16 Axes>"
      ]
     },
     "metadata": {},
     "output_type": "display_data"
    }
   ],
   "source": [
    "fig, ax = plt.subplots(8, 2, figsize=(10,15), dpi=100)\n",
    "\n",
    "for idx, each_feature in enumerate(cat_features):\n",
    "    # Plot Boxplot\n",
    "    sns.boxplot(y='Age', x=each_feature, data=train, ax=ax[idx,0], palette='Purples_r')\n",
    "    \n",
    "    # Plot Countplot\n",
    "    plot = sns.countplot(x=each_feature, data=train, ax=ax[idx,1], palette='Purples_r')\n",
    "    ax[idx,1].set_ylim([0, 10000])\n",
    "\n",
    "    # Colocar valor nas colunas do gráfico\n",
    "    for i in plot.patches:\n",
    "      plot.annotate(i.get_height(),\n",
    "                  (i.get_x() + i.get_width() / 2, i.get_height()),\n",
    "                  ha='center',\n",
    "                  va='baseline',\n",
    "                  fontsize=8,\n",
    "                  color='black',\n",
    "                  xytext=(0, 1),\n",
    "                  textcoords='offset points')\n",
    "    \n",
    "    # Set Axis Labels\n",
    "    ax[idx,0].xaxis.label.set_size(10)\n",
    "    ax[idx,0].yaxis.label.set_size(10)\n",
    "    ax[idx,1].xaxis.label.set_size(10)\n",
    "    ax[idx,1].yaxis.label.set_size(10)\n",
    "\n",
    "\n",
    "plt.tight_layout()    \n",
    "plt.show()"
   ]
  },
  {
   "cell_type": "code",
   "execution_count": 18,
   "metadata": {},
   "outputs": [
    {
     "data": {
      "text/plain": [
       "Home_Earth           -0.203258\n",
       "Transported          -0.075026\n",
       "Dest_PSO J318.5-22   -0.028503\n",
       "Dest_TRAPPIST-1e      0.003037\n",
       "Home_Mars             0.016273\n",
       "Dest_55 Cancri e      0.016873\n",
       "ShoppingMall          0.032757\n",
       "RoomService           0.067969\n",
       "VRDeck                0.099869\n",
       "Spa                   0.122786\n",
       "FoodCourt             0.129064\n",
       "Home_Europa           0.219793\n",
       "Age                   1.000000\n",
       "Name: Age, dtype: float64"
      ]
     },
     "execution_count": 18,
     "metadata": {},
     "output_type": "execute_result"
    }
   ],
   "source": [
    "age_corr = train.corr()['Age'].sort_values()\n",
    "age_corr"
   ]
  },
  {
   "attachments": {},
   "cell_type": "markdown",
   "metadata": {},
   "source": [
    "Usando os dados do 'HomePlanet' para preencher os dados de 'Age' que estão vazios"
   ]
  },
  {
   "cell_type": "code",
   "execution_count": 19,
   "metadata": {},
   "outputs": [
    {
     "data": {
      "text/plain": [
       "Home_Europa\n",
       "0    24.0\n",
       "1    33.0\n",
       "Name: Age, dtype: float64"
      ]
     },
     "execution_count": 19,
     "metadata": {},
     "output_type": "execute_result"
    }
   ],
   "source": [
    "train.groupby('Home_Europa')['Age'].median()"
   ]
  },
  {
   "cell_type": "code",
   "execution_count": 20,
   "metadata": {},
   "outputs": [
    {
     "data": {
      "text/plain": [
       "0       39.0\n",
       "1       24.0\n",
       "2       58.0\n",
       "3       33.0\n",
       "4       16.0\n",
       "        ... \n",
       "8688    41.0\n",
       "8689    18.0\n",
       "8690    26.0\n",
       "8691    32.0\n",
       "8692    44.0\n",
       "Name: Age, Length: 8693, dtype: float64"
      ]
     },
     "execution_count": 20,
     "metadata": {},
     "output_type": "execute_result"
    }
   ],
   "source": [
    "train['Age'] =train.groupby('Home_Europa')['Age'].transform(lambda x : x.fillna(x.median()))\n",
    "train['Age']"
   ]
  },
  {
   "cell_type": "code",
   "execution_count": 21,
   "metadata": {},
   "outputs": [],
   "source": [
    "train['Transported'].replace({True: 1, False: 0}, inplace=True)"
   ]
  },
  {
   "cell_type": "code",
   "execution_count": 22,
   "metadata": {},
   "outputs": [],
   "source": [
    "#transformando object em int64\n",
    "train['CryoSleep'] = train['CryoSleep'].apply(lambda x: int(x))\n",
    "train['VIP'] = train['VIP'].apply(lambda x: int(x))\n"
   ]
  },
  {
   "attachments": {},
   "cell_type": "markdown",
   "metadata": {},
   "source": [
    "criando novas variaveis"
   ]
  },
  {
   "cell_type": "code",
   "execution_count": 23,
   "metadata": {},
   "outputs": [],
   "source": [
    "train['total_gasto'] = train['RoomService']+ train['FoodCourt'] + train['ShoppingMall'] + train['Spa'] +train['VRDeck']"
   ]
  },
  {
   "cell_type": "code",
   "execution_count": 24,
   "metadata": {},
   "outputs": [
    {
     "name": "stdout",
     "output_type": "stream",
     "text": [
      "0       0001\n",
      "1       0002\n",
      "2       0003\n",
      "3       0003\n",
      "4       0004\n",
      "        ... \n",
      "8688    9276\n",
      "8689    9278\n",
      "8690    9279\n",
      "8691    9280\n",
      "8692    9280\n",
      "Name: PassengerId, Length: 8693, dtype: object\n",
      "0       01\n",
      "1       01\n",
      "2       01\n",
      "3       02\n",
      "4       01\n",
      "        ..\n",
      "8688    01\n",
      "8689    01\n",
      "8690    01\n",
      "8691    01\n",
      "8692    02\n",
      "Name: PassengerId, Length: 8693, dtype: object\n"
     ]
    },
    {
     "data": {
      "text/plain": [
       "array(['01', '02', '03', '04', '05', '06', '07', '08'], dtype=object)"
      ]
     },
     "execution_count": 24,
     "metadata": {},
     "output_type": "execute_result"
    }
   ],
   "source": [
    "\n",
    "n_pessoas = train['PassengerId'].str.split('_')\n",
    "print(n_pessoas.str.get(0))\n",
    "print(n_pessoas.str.get(1))\n",
    "\n",
    "train['n_pessoas_cabine'] = n_pessoas.str.get(1)\n",
    "train['n_pessoas_cabine'].unique()"
   ]
  },
  {
   "cell_type": "code",
   "execution_count": 25,
   "metadata": {},
   "outputs": [],
   "source": [
    "def create_dummies_n_pessoas_cabine(df):\n",
    "    def is_interval_6_to_8(n_pessoas_cabine):\n",
    "        return int(6 <= int(n_pessoas_cabine) <= 8)\n",
    "    def is_n_pessoas(n_pessoas_cabine, n_pessoas):\n",
    "        return int(int(n_pessoas_cabine) == n_pessoas)\n",
    "    \n",
    "    df['6 a 8 pessoas'] = df['n_pessoas_cabine'].apply(is_interval_6_to_8)\n",
    "    df['1 pessoa'] = df['n_pessoas_cabine'].apply(lambda x: is_n_pessoas(x, 1))\n",
    "    df['2 pessoas'] = df['n_pessoas_cabine'].apply(lambda x: is_n_pessoas(x, 2))\n",
    "    df['3 pessoas'] = df['n_pessoas_cabine'].apply(lambda x: is_n_pessoas(x, 3))\n",
    "    df['4 pessoas'] = df['n_pessoas_cabine'].apply(lambda x: is_n_pessoas(x, 4))\n",
    "    df['5 pessoas'] = df['n_pessoas_cabine'].apply(lambda x: is_n_pessoas(x, 5))\n",
    "    return df\n",
    "\n",
    "criar_cabine = create_dummies_n_pessoas_cabine(train)\n",
    "\n",
    "train.drop('n_pessoas_cabine', axis=1,inplace=True) #apagar a coluna"
   ]
  },
  {
   "cell_type": "code",
   "execution_count": 26,
   "metadata": {},
   "outputs": [
    {
     "name": "stdout",
     "output_type": "stream",
     "text": [
      "0       B\n",
      "1       F\n",
      "2       A\n",
      "3       A\n",
      "4       F\n",
      "       ..\n",
      "8688    A\n",
      "8689    G\n",
      "8690    G\n",
      "8691    E\n",
      "8692    E\n",
      "Name: Cabin, Length: 8693, dtype: object\n",
      "0          0\n",
      "1          0\n",
      "2          0\n",
      "3          0\n",
      "4          1\n",
      "        ... \n",
      "8688      98\n",
      "8689    1499\n",
      "8690    1500\n",
      "8691     608\n",
      "8692     608\n",
      "Name: Cabin, Length: 8693, dtype: object\n",
      "0       P\n",
      "1       S\n",
      "2       S\n",
      "3       S\n",
      "4       S\n",
      "       ..\n",
      "8688    P\n",
      "8689    S\n",
      "8690    S\n",
      "8691    S\n",
      "8692    S\n",
      "Name: Cabin, Length: 8693, dtype: object\n"
     ]
    },
    {
     "data": {
      "text/plain": [
       "array(['P', 'S', nan], dtype=object)"
      ]
     },
     "execution_count": 26,
     "metadata": {},
     "output_type": "execute_result"
    }
   ],
   "source": [
    "\n",
    "lado_navio = train['Cabin'].str.split('/')\n",
    "print(lado_navio.str.get(0))\n",
    "print(lado_navio.str.get(1))\n",
    "print(lado_navio.str.get(2))\n",
    "\n",
    "train['lado_navio'] = lado_navio.str.get(2)\n",
    "train['lado_navio'].unique()"
   ]
  },
  {
   "cell_type": "code",
   "execution_count": 27,
   "metadata": {},
   "outputs": [
    {
     "data": {
      "text/plain": [
       "0       1\n",
       "1       0\n",
       "2       0\n",
       "3       0\n",
       "4       0\n",
       "       ..\n",
       "8688    1\n",
       "8689    0\n",
       "8690    0\n",
       "8691    0\n",
       "8692    0\n",
       "Name: lado_navio, Length: 8693, dtype: int64"
      ]
     },
     "execution_count": 27,
     "metadata": {},
     "output_type": "execute_result"
    }
   ],
   "source": [
    "train['lado_navio'].fillna(train['lado_navio'].mode()[0] ,inplace=True)\n",
    "train['lado_navio'].unique()\n",
    "\n",
    "\n",
    "#transformar a variavel lado_navio\n",
    "def transformar_lado(valor):\n",
    "    if valor == 'P':\n",
    "        return 1\n",
    "    else:\n",
    "        return 0\n",
    "    \n",
    "train['lado_navio'] = train['lado_navio'].map(transformar_lado)\n",
    "train['lado_navio'] "
   ]
  },
  {
   "attachments": {},
   "cell_type": "markdown",
   "metadata": {},
   "source": [
    "Apagando os dados de PassengerId, Cabin e Name"
   ]
  },
  {
   "cell_type": "code",
   "execution_count": 28,
   "metadata": {},
   "outputs": [],
   "source": [
    "train.drop(['PassengerId','Cabin','Name'], axis=1, inplace=True)"
   ]
  },
  {
   "cell_type": "code",
   "execution_count": 29,
   "metadata": {},
   "outputs": [
    {
     "data": {
      "text/html": [
       "<div>\n",
       "<style scoped>\n",
       "    .dataframe tbody tr th:only-of-type {\n",
       "        vertical-align: middle;\n",
       "    }\n",
       "\n",
       "    .dataframe tbody tr th {\n",
       "        vertical-align: top;\n",
       "    }\n",
       "\n",
       "    .dataframe thead th {\n",
       "        text-align: right;\n",
       "    }\n",
       "</style>\n",
       "<table border=\"1\" class=\"dataframe\">\n",
       "  <thead>\n",
       "    <tr style=\"text-align: right;\">\n",
       "      <th></th>\n",
       "      <th>Não Nulos</th>\n",
       "      <th>Nulos</th>\n",
       "      <th>% Nulos</th>\n",
       "      <th>Unicos</th>\n",
       "      <th>Dtype</th>\n",
       "    </tr>\n",
       "    <tr>\n",
       "      <th>Columns</th>\n",
       "      <th></th>\n",
       "      <th></th>\n",
       "      <th></th>\n",
       "      <th></th>\n",
       "      <th></th>\n",
       "    </tr>\n",
       "  </thead>\n",
       "  <tbody>\n",
       "    <tr>\n",
       "      <th>CryoSleep</th>\n",
       "      <td>8693</td>\n",
       "      <td>0</td>\n",
       "      <td>0.0</td>\n",
       "      <td>2</td>\n",
       "      <td>int64</td>\n",
       "    </tr>\n",
       "    <tr>\n",
       "      <th>Age</th>\n",
       "      <td>8693</td>\n",
       "      <td>0</td>\n",
       "      <td>0.0</td>\n",
       "      <td>80</td>\n",
       "      <td>float64</td>\n",
       "    </tr>\n",
       "    <tr>\n",
       "      <th>VIP</th>\n",
       "      <td>8693</td>\n",
       "      <td>0</td>\n",
       "      <td>0.0</td>\n",
       "      <td>2</td>\n",
       "      <td>int64</td>\n",
       "    </tr>\n",
       "    <tr>\n",
       "      <th>RoomService</th>\n",
       "      <td>8693</td>\n",
       "      <td>0</td>\n",
       "      <td>0.0</td>\n",
       "      <td>1274</td>\n",
       "      <td>float64</td>\n",
       "    </tr>\n",
       "    <tr>\n",
       "      <th>FoodCourt</th>\n",
       "      <td>8693</td>\n",
       "      <td>0</td>\n",
       "      <td>0.0</td>\n",
       "      <td>1508</td>\n",
       "      <td>float64</td>\n",
       "    </tr>\n",
       "    <tr>\n",
       "      <th>ShoppingMall</th>\n",
       "      <td>8693</td>\n",
       "      <td>0</td>\n",
       "      <td>0.0</td>\n",
       "      <td>1116</td>\n",
       "      <td>float64</td>\n",
       "    </tr>\n",
       "    <tr>\n",
       "      <th>Spa</th>\n",
       "      <td>8693</td>\n",
       "      <td>0</td>\n",
       "      <td>0.0</td>\n",
       "      <td>1328</td>\n",
       "      <td>float64</td>\n",
       "    </tr>\n",
       "    <tr>\n",
       "      <th>VRDeck</th>\n",
       "      <td>8693</td>\n",
       "      <td>0</td>\n",
       "      <td>0.0</td>\n",
       "      <td>1307</td>\n",
       "      <td>float64</td>\n",
       "    </tr>\n",
       "    <tr>\n",
       "      <th>Transported</th>\n",
       "      <td>8693</td>\n",
       "      <td>0</td>\n",
       "      <td>0.0</td>\n",
       "      <td>2</td>\n",
       "      <td>int64</td>\n",
       "    </tr>\n",
       "    <tr>\n",
       "      <th>Home_Earth</th>\n",
       "      <td>8693</td>\n",
       "      <td>0</td>\n",
       "      <td>0.0</td>\n",
       "      <td>2</td>\n",
       "      <td>uint8</td>\n",
       "    </tr>\n",
       "    <tr>\n",
       "      <th>Home_Mars</th>\n",
       "      <td>8693</td>\n",
       "      <td>0</td>\n",
       "      <td>0.0</td>\n",
       "      <td>2</td>\n",
       "      <td>uint8</td>\n",
       "    </tr>\n",
       "    <tr>\n",
       "      <th>Home_Europa</th>\n",
       "      <td>8693</td>\n",
       "      <td>0</td>\n",
       "      <td>0.0</td>\n",
       "      <td>2</td>\n",
       "      <td>uint8</td>\n",
       "    </tr>\n",
       "    <tr>\n",
       "      <th>Dest_55 Cancri e</th>\n",
       "      <td>8693</td>\n",
       "      <td>0</td>\n",
       "      <td>0.0</td>\n",
       "      <td>2</td>\n",
       "      <td>uint8</td>\n",
       "    </tr>\n",
       "    <tr>\n",
       "      <th>Dest_PSO J318.5-22</th>\n",
       "      <td>8693</td>\n",
       "      <td>0</td>\n",
       "      <td>0.0</td>\n",
       "      <td>2</td>\n",
       "      <td>uint8</td>\n",
       "    </tr>\n",
       "    <tr>\n",
       "      <th>Dest_TRAPPIST-1e</th>\n",
       "      <td>8693</td>\n",
       "      <td>0</td>\n",
       "      <td>0.0</td>\n",
       "      <td>2</td>\n",
       "      <td>uint8</td>\n",
       "    </tr>\n",
       "    <tr>\n",
       "      <th>total_gasto</th>\n",
       "      <td>8693</td>\n",
       "      <td>0</td>\n",
       "      <td>0.0</td>\n",
       "      <td>2618</td>\n",
       "      <td>float64</td>\n",
       "    </tr>\n",
       "    <tr>\n",
       "      <th>6 a 8 pessoas</th>\n",
       "      <td>8693</td>\n",
       "      <td>0</td>\n",
       "      <td>0.0</td>\n",
       "      <td>2</td>\n",
       "      <td>int64</td>\n",
       "    </tr>\n",
       "    <tr>\n",
       "      <th>1 pessoa</th>\n",
       "      <td>8693</td>\n",
       "      <td>0</td>\n",
       "      <td>0.0</td>\n",
       "      <td>2</td>\n",
       "      <td>int64</td>\n",
       "    </tr>\n",
       "    <tr>\n",
       "      <th>2 pessoas</th>\n",
       "      <td>8693</td>\n",
       "      <td>0</td>\n",
       "      <td>0.0</td>\n",
       "      <td>2</td>\n",
       "      <td>int64</td>\n",
       "    </tr>\n",
       "    <tr>\n",
       "      <th>3 pessoas</th>\n",
       "      <td>8693</td>\n",
       "      <td>0</td>\n",
       "      <td>0.0</td>\n",
       "      <td>2</td>\n",
       "      <td>int64</td>\n",
       "    </tr>\n",
       "    <tr>\n",
       "      <th>4 pessoas</th>\n",
       "      <td>8693</td>\n",
       "      <td>0</td>\n",
       "      <td>0.0</td>\n",
       "      <td>2</td>\n",
       "      <td>int64</td>\n",
       "    </tr>\n",
       "    <tr>\n",
       "      <th>5 pessoas</th>\n",
       "      <td>8693</td>\n",
       "      <td>0</td>\n",
       "      <td>0.0</td>\n",
       "      <td>2</td>\n",
       "      <td>int64</td>\n",
       "    </tr>\n",
       "    <tr>\n",
       "      <th>lado_navio</th>\n",
       "      <td>8693</td>\n",
       "      <td>0</td>\n",
       "      <td>0.0</td>\n",
       "      <td>2</td>\n",
       "      <td>int64</td>\n",
       "    </tr>\n",
       "  </tbody>\n",
       "</table>\n",
       "</div>"
      ],
      "text/plain": [
       "                    Não Nulos  Nulos  % Nulos  Unicos    Dtype\n",
       "Columns                                                       \n",
       "CryoSleep                8693      0      0.0       2    int64\n",
       "Age                      8693      0      0.0      80  float64\n",
       "VIP                      8693      0      0.0       2    int64\n",
       "RoomService              8693      0      0.0    1274  float64\n",
       "FoodCourt                8693      0      0.0    1508  float64\n",
       "ShoppingMall             8693      0      0.0    1116  float64\n",
       "Spa                      8693      0      0.0    1328  float64\n",
       "VRDeck                   8693      0      0.0    1307  float64\n",
       "Transported              8693      0      0.0       2    int64\n",
       "Home_Earth               8693      0      0.0       2    uint8\n",
       "Home_Mars                8693      0      0.0       2    uint8\n",
       "Home_Europa              8693      0      0.0       2    uint8\n",
       "Dest_55 Cancri e         8693      0      0.0       2    uint8\n",
       "Dest_PSO J318.5-22       8693      0      0.0       2    uint8\n",
       "Dest_TRAPPIST-1e         8693      0      0.0       2    uint8\n",
       "total_gasto              8693      0      0.0    2618  float64\n",
       "6 a 8 pessoas            8693      0      0.0       2    int64\n",
       "1 pessoa                 8693      0      0.0       2    int64\n",
       "2 pessoas                8693      0      0.0       2    int64\n",
       "3 pessoas                8693      0      0.0       2    int64\n",
       "4 pessoas                8693      0      0.0       2    int64\n",
       "5 pessoas                8693      0      0.0       2    int64\n",
       "lado_navio               8693      0      0.0       2    int64"
      ]
     },
     "execution_count": 29,
     "metadata": {},
     "output_type": "execute_result"
    }
   ],
   "source": [
    "df_informacoes(train)"
   ]
  },
  {
   "attachments": {},
   "cell_type": "markdown",
   "metadata": {},
   "source": [
    "## Dados de Teste"
   ]
  },
  {
   "cell_type": "code",
   "execution_count": 30,
   "metadata": {},
   "outputs": [
    {
     "data": {
      "text/html": [
       "<div>\n",
       "<style scoped>\n",
       "    .dataframe tbody tr th:only-of-type {\n",
       "        vertical-align: middle;\n",
       "    }\n",
       "\n",
       "    .dataframe tbody tr th {\n",
       "        vertical-align: top;\n",
       "    }\n",
       "\n",
       "    .dataframe thead th {\n",
       "        text-align: right;\n",
       "    }\n",
       "</style>\n",
       "<table border=\"1\" class=\"dataframe\">\n",
       "  <thead>\n",
       "    <tr style=\"text-align: right;\">\n",
       "      <th></th>\n",
       "      <th>PassengerId</th>\n",
       "      <th>HomePlanet</th>\n",
       "      <th>CryoSleep</th>\n",
       "      <th>Cabin</th>\n",
       "      <th>Destination</th>\n",
       "      <th>Age</th>\n",
       "      <th>VIP</th>\n",
       "      <th>RoomService</th>\n",
       "      <th>FoodCourt</th>\n",
       "      <th>ShoppingMall</th>\n",
       "      <th>Spa</th>\n",
       "      <th>VRDeck</th>\n",
       "      <th>Name</th>\n",
       "    </tr>\n",
       "  </thead>\n",
       "  <tbody>\n",
       "    <tr>\n",
       "      <th>0</th>\n",
       "      <td>0013_01</td>\n",
       "      <td>Earth</td>\n",
       "      <td>True</td>\n",
       "      <td>G/3/S</td>\n",
       "      <td>TRAPPIST-1e</td>\n",
       "      <td>27.0</td>\n",
       "      <td>False</td>\n",
       "      <td>0.0</td>\n",
       "      <td>0.0</td>\n",
       "      <td>0.0</td>\n",
       "      <td>0.0</td>\n",
       "      <td>0.0</td>\n",
       "      <td>Nelly Carsoning</td>\n",
       "    </tr>\n",
       "    <tr>\n",
       "      <th>1</th>\n",
       "      <td>0018_01</td>\n",
       "      <td>Earth</td>\n",
       "      <td>False</td>\n",
       "      <td>F/4/S</td>\n",
       "      <td>TRAPPIST-1e</td>\n",
       "      <td>19.0</td>\n",
       "      <td>False</td>\n",
       "      <td>0.0</td>\n",
       "      <td>9.0</td>\n",
       "      <td>0.0</td>\n",
       "      <td>2823.0</td>\n",
       "      <td>0.0</td>\n",
       "      <td>Lerome Peckers</td>\n",
       "    </tr>\n",
       "    <tr>\n",
       "      <th>2</th>\n",
       "      <td>0019_01</td>\n",
       "      <td>Europa</td>\n",
       "      <td>True</td>\n",
       "      <td>C/0/S</td>\n",
       "      <td>55 Cancri e</td>\n",
       "      <td>31.0</td>\n",
       "      <td>False</td>\n",
       "      <td>0.0</td>\n",
       "      <td>0.0</td>\n",
       "      <td>0.0</td>\n",
       "      <td>0.0</td>\n",
       "      <td>0.0</td>\n",
       "      <td>Sabih Unhearfus</td>\n",
       "    </tr>\n",
       "    <tr>\n",
       "      <th>3</th>\n",
       "      <td>0021_01</td>\n",
       "      <td>Europa</td>\n",
       "      <td>False</td>\n",
       "      <td>C/1/S</td>\n",
       "      <td>TRAPPIST-1e</td>\n",
       "      <td>38.0</td>\n",
       "      <td>False</td>\n",
       "      <td>0.0</td>\n",
       "      <td>6652.0</td>\n",
       "      <td>0.0</td>\n",
       "      <td>181.0</td>\n",
       "      <td>585.0</td>\n",
       "      <td>Meratz Caltilter</td>\n",
       "    </tr>\n",
       "    <tr>\n",
       "      <th>4</th>\n",
       "      <td>0023_01</td>\n",
       "      <td>Earth</td>\n",
       "      <td>False</td>\n",
       "      <td>F/5/S</td>\n",
       "      <td>TRAPPIST-1e</td>\n",
       "      <td>20.0</td>\n",
       "      <td>False</td>\n",
       "      <td>10.0</td>\n",
       "      <td>0.0</td>\n",
       "      <td>635.0</td>\n",
       "      <td>0.0</td>\n",
       "      <td>0.0</td>\n",
       "      <td>Brence Harperez</td>\n",
       "    </tr>\n",
       "  </tbody>\n",
       "</table>\n",
       "</div>"
      ],
      "text/plain": [
       "  PassengerId HomePlanet CryoSleep  Cabin  Destination   Age    VIP  \\\n",
       "0     0013_01      Earth      True  G/3/S  TRAPPIST-1e  27.0  False   \n",
       "1     0018_01      Earth     False  F/4/S  TRAPPIST-1e  19.0  False   \n",
       "2     0019_01     Europa      True  C/0/S  55 Cancri e  31.0  False   \n",
       "3     0021_01     Europa     False  C/1/S  TRAPPIST-1e  38.0  False   \n",
       "4     0023_01      Earth     False  F/5/S  TRAPPIST-1e  20.0  False   \n",
       "\n",
       "   RoomService  FoodCourt  ShoppingMall     Spa  VRDeck              Name  \n",
       "0          0.0        0.0           0.0     0.0     0.0   Nelly Carsoning  \n",
       "1          0.0        9.0           0.0  2823.0     0.0    Lerome Peckers  \n",
       "2          0.0        0.0           0.0     0.0     0.0   Sabih Unhearfus  \n",
       "3          0.0     6652.0           0.0   181.0   585.0  Meratz Caltilter  \n",
       "4         10.0        0.0         635.0     0.0     0.0   Brence Harperez  "
      ]
     },
     "execution_count": 30,
     "metadata": {},
     "output_type": "execute_result"
    }
   ],
   "source": [
    "test.head(5)"
   ]
  },
  {
   "cell_type": "code",
   "execution_count": 31,
   "metadata": {},
   "outputs": [],
   "source": [
    "test1 = test['PassengerId']"
   ]
  },
  {
   "cell_type": "code",
   "execution_count": 32,
   "metadata": {},
   "outputs": [
    {
     "name": "stdout",
     "output_type": "stream",
     "text": [
      "RoomService     0\n",
      "FoodCourt       0\n",
      "ShoppingMall    0\n",
      "Spa             0\n",
      "VRDeck          0\n",
      "dtype: int64\n"
     ]
    }
   ],
   "source": [
    "def convert_float_to_int(test, columns):\n",
    "    for column in columns:\n",
    "        float_array = np.mean(test[column])\n",
    "        test[column].fillna(float_array,inplace= True)\n",
    "    return train\n",
    "\n",
    "columns = ['RoomService', 'FoodCourt', 'ShoppingMall', 'Spa', 'VRDeck']\n",
    "convert_float_to_int(test, columns)\n",
    "print(test[columns].isna().sum())"
   ]
  },
  {
   "cell_type": "code",
   "execution_count": 33,
   "metadata": {},
   "outputs": [],
   "source": [
    "test['CryoSleep'].replace({True: 1, False: 0}, inplace=True)\n",
    "test['VIP'].replace({True: 1, False: 0}, inplace=True)\n",
    "\n",
    "#A proporção que aparecia o valor 0 era muito superior\n",
    "\n",
    "test['CryoSleep'].fillna(False, inplace=True)\n",
    "test['VIP'].fillna(False, inplace=True)\n"
   ]
  },
  {
   "cell_type": "code",
   "execution_count": 34,
   "metadata": {},
   "outputs": [],
   "source": [
    "#valor que mais apareceu\n",
    "test['HomePlanet'].fillna(test['HomePlanet'].mode()[0] ,inplace=True)"
   ]
  },
  {
   "cell_type": "code",
   "execution_count": 35,
   "metadata": {},
   "outputs": [],
   "source": [
    "#transformar a variavel HomePlanet\n",
    "def transformar_HomePlanet(valor):\n",
    "    if valor == 'Europa':\n",
    "        return 2\n",
    "    if valor == 'Mars':\n",
    "        return 1\n",
    "    else:\n",
    "        return 0\n",
    "    \n",
    "test['HomePlanet'] = test['HomePlanet'].map(transformar_HomePlanet)"
   ]
  },
  {
   "cell_type": "code",
   "execution_count": 36,
   "metadata": {},
   "outputs": [],
   "source": [
    "#valor que mais apareceu\n",
    "test['Destination'].fillna(test['Destination'].mode()[0] ,inplace=True)\n",
    "\n",
    "col_dummies = pd.get_dummies(test['HomePlanet'], prefix='Home', columns=['Europa', 'Earth', 'Mars'])\n",
    "test = test.join(col_dummies)\n",
    "\n",
    "#renomear\n",
    "test.rename(columns={'Home_0':'Home_Earth','Home_1':'Home_Mars','Home_2':'Home_Europa'}, inplace=True)\n",
    "test.drop('HomePlanet', axis=1,inplace=True) #apagar a coluna"
   ]
  },
  {
   "cell_type": "code",
   "execution_count": 37,
   "metadata": {},
   "outputs": [],
   "source": [
    "col_dummies = pd.get_dummies(test['Destination'], prefix='Dest', columns=['TRAPPIST-1e', 'PSO J318.5-22', '55 Cancri e'])\n",
    "test = test.join(col_dummies)\n",
    "\n",
    "#renomear\n",
    "test.rename(columns={'Dest_0':'Dest_55 Cancri e','Dest_1':'Dest_PSO J318.5-22','Dest_2':'Dest_TRAPPIST-1e'}, inplace=True)\n",
    "test.drop('Destination', axis=1,inplace=True) #apagar a coluna"
   ]
  },
  {
   "cell_type": "code",
   "execution_count": 38,
   "metadata": {},
   "outputs": [
    {
     "data": {
      "text/plain": [
       "0       27.0\n",
       "1       19.0\n",
       "2       31.0\n",
       "3       38.0\n",
       "4       20.0\n",
       "        ... \n",
       "4272    34.0\n",
       "4273    42.0\n",
       "4274    24.0\n",
       "4275    32.0\n",
       "4276    43.0\n",
       "Name: Age, Length: 4277, dtype: float64"
      ]
     },
     "execution_count": 38,
     "metadata": {},
     "output_type": "execute_result"
    }
   ],
   "source": [
    "test['Age'] = test.groupby('Home_Europa')['Age'].transform(lambda x : x.fillna(x.median()))\n",
    "test['Age']\n"
   ]
  },
  {
   "cell_type": "code",
   "execution_count": 39,
   "metadata": {},
   "outputs": [],
   "source": [
    "test['CryoSleep'] = test['CryoSleep'].apply(lambda x: int(x))\n",
    "test['VIP'] = test['VIP'].apply(lambda x: int(x))\n"
   ]
  },
  {
   "cell_type": "code",
   "execution_count": 40,
   "metadata": {},
   "outputs": [],
   "source": [
    "test['total_gasto'] = test['RoomService']+ test['FoodCourt'] + test['ShoppingMall'] + test['Spa'] + test['VRDeck']"
   ]
  },
  {
   "cell_type": "code",
   "execution_count": 41,
   "metadata": {},
   "outputs": [
    {
     "name": "stdout",
     "output_type": "stream",
     "text": [
      "0       0013\n",
      "1       0018\n",
      "2       0019\n",
      "3       0021\n",
      "4       0023\n",
      "        ... \n",
      "4272    9266\n",
      "4273    9269\n",
      "4274    9271\n",
      "4275    9273\n",
      "4276    9277\n",
      "Name: PassengerId, Length: 4277, dtype: object\n",
      "0       01\n",
      "1       01\n",
      "2       01\n",
      "3       01\n",
      "4       01\n",
      "        ..\n",
      "4272    02\n",
      "4273    01\n",
      "4274    01\n",
      "4275    01\n",
      "4276    01\n",
      "Name: PassengerId, Length: 4277, dtype: object\n"
     ]
    },
    {
     "data": {
      "text/plain": [
       "array(['01', '02', '03', '04', '05', '06', '07', '08'], dtype=object)"
      ]
     },
     "execution_count": 41,
     "metadata": {},
     "output_type": "execute_result"
    }
   ],
   "source": [
    "n_pessoas = test['PassengerId'].str.split('_')\n",
    "print(n_pessoas.str.get(0))\n",
    "print(n_pessoas.str.get(1))\n",
    "\n",
    "test['n_pessoas_cabine'] = n_pessoas.str.get(1)\n",
    "test['n_pessoas_cabine'].unique()\n"
   ]
  },
  {
   "cell_type": "code",
   "execution_count": 42,
   "metadata": {},
   "outputs": [],
   "source": [
    "def create_dummies_n_pessoas_cabine(df):\n",
    "    def is_interval_6_to_8(n_pessoas_cabine):\n",
    "        return int(6 <= int(n_pessoas_cabine) <= 8)\n",
    "    def is_n_pessoas(n_pessoas_cabine, n_pessoas):\n",
    "        return int(int(n_pessoas_cabine) == n_pessoas)\n",
    "    \n",
    "    df['6 a 8 pessoas'] = df['n_pessoas_cabine'].apply(is_interval_6_to_8)\n",
    "    df['1 pessoa'] = df['n_pessoas_cabine'].apply(lambda x: is_n_pessoas(x, 1))\n",
    "    df['2 pessoas'] = df['n_pessoas_cabine'].apply(lambda x: is_n_pessoas(x, 2))\n",
    "    df['3 pessoas'] = df['n_pessoas_cabine'].apply(lambda x: is_n_pessoas(x, 3))\n",
    "    df['4 pessoas'] = df['n_pessoas_cabine'].apply(lambda x: is_n_pessoas(x, 4))\n",
    "    df['5 pessoas'] = df['n_pessoas_cabine'].apply(lambda x: is_n_pessoas(x, 5))\n",
    "    return df\n",
    "\n",
    "criar_cabine = create_dummies_n_pessoas_cabine(test)\n",
    "\n",
    "test.drop('n_pessoas_cabine', axis=1,inplace=True) #apagar a coluna"
   ]
  },
  {
   "cell_type": "code",
   "execution_count": 43,
   "metadata": {},
   "outputs": [
    {
     "name": "stdout",
     "output_type": "stream",
     "text": [
      "0         G\n",
      "1         F\n",
      "2         C\n",
      "3         C\n",
      "4         F\n",
      "       ... \n",
      "4272      G\n",
      "4273    NaN\n",
      "4274      D\n",
      "4275      D\n",
      "4276      G\n",
      "Name: Cabin, Length: 4277, dtype: object\n",
      "0          3\n",
      "1          4\n",
      "2          0\n",
      "3          1\n",
      "4          5\n",
      "        ... \n",
      "4272    1496\n",
      "4273     NaN\n",
      "4274     296\n",
      "4275     297\n",
      "4276    1498\n",
      "Name: Cabin, Length: 4277, dtype: object\n",
      "0         S\n",
      "1         S\n",
      "2         S\n",
      "3         S\n",
      "4         S\n",
      "       ... \n",
      "4272      S\n",
      "4273    NaN\n",
      "4274      P\n",
      "4275      P\n",
      "4276      S\n",
      "Name: Cabin, Length: 4277, dtype: object\n"
     ]
    },
    {
     "data": {
      "text/plain": [
       "array(['S', 'P', nan], dtype=object)"
      ]
     },
     "execution_count": 43,
     "metadata": {},
     "output_type": "execute_result"
    }
   ],
   "source": [
    "lado_navio = test['Cabin'].str.split('/')\n",
    "print(lado_navio.str.get(0))\n",
    "print(lado_navio.str.get(1))\n",
    "print(lado_navio.str.get(2))\n",
    "\n",
    "test['lado_navio'] = lado_navio.str.get(2)\n",
    "test['lado_navio'].unique()"
   ]
  },
  {
   "cell_type": "code",
   "execution_count": 44,
   "metadata": {},
   "outputs": [
    {
     "data": {
      "text/plain": [
       "0       0\n",
       "1       0\n",
       "2       0\n",
       "3       0\n",
       "4       0\n",
       "       ..\n",
       "4272    0\n",
       "4273    0\n",
       "4274    1\n",
       "4275    1\n",
       "4276    0\n",
       "Name: lado_navio, Length: 4277, dtype: int64"
      ]
     },
     "execution_count": 44,
     "metadata": {},
     "output_type": "execute_result"
    }
   ],
   "source": [
    "test['lado_navio'].fillna(test['lado_navio'].mode()[0] ,inplace=True)\n",
    "test['lado_navio'].unique()\n",
    "\n",
    "\n",
    "#transformar a variavel lado_navio\n",
    "def transformar_lado(valor):\n",
    "    if valor == 'P':\n",
    "        return 1\n",
    "    else:\n",
    "        return 0\n",
    "    \n",
    "test['lado_navio'] = test['lado_navio'].map(transformar_lado)\n",
    "test['lado_navio'] "
   ]
  },
  {
   "cell_type": "code",
   "execution_count": 45,
   "metadata": {},
   "outputs": [],
   "source": [
    "test.drop(['PassengerId','Cabin','Name'], axis=1, inplace=True)"
   ]
  },
  {
   "cell_type": "code",
   "execution_count": 46,
   "metadata": {},
   "outputs": [
    {
     "data": {
      "text/html": [
       "<div>\n",
       "<style scoped>\n",
       "    .dataframe tbody tr th:only-of-type {\n",
       "        vertical-align: middle;\n",
       "    }\n",
       "\n",
       "    .dataframe tbody tr th {\n",
       "        vertical-align: top;\n",
       "    }\n",
       "\n",
       "    .dataframe thead th {\n",
       "        text-align: right;\n",
       "    }\n",
       "</style>\n",
       "<table border=\"1\" class=\"dataframe\">\n",
       "  <thead>\n",
       "    <tr style=\"text-align: right;\">\n",
       "      <th></th>\n",
       "      <th>Não Nulos</th>\n",
       "      <th>Nulos</th>\n",
       "      <th>% Nulos</th>\n",
       "      <th>Unicos</th>\n",
       "      <th>Dtype</th>\n",
       "    </tr>\n",
       "    <tr>\n",
       "      <th>Columns</th>\n",
       "      <th></th>\n",
       "      <th></th>\n",
       "      <th></th>\n",
       "      <th></th>\n",
       "      <th></th>\n",
       "    </tr>\n",
       "  </thead>\n",
       "  <tbody>\n",
       "    <tr>\n",
       "      <th>CryoSleep</th>\n",
       "      <td>4277</td>\n",
       "      <td>0</td>\n",
       "      <td>0.0</td>\n",
       "      <td>2</td>\n",
       "      <td>int64</td>\n",
       "    </tr>\n",
       "    <tr>\n",
       "      <th>Age</th>\n",
       "      <td>4277</td>\n",
       "      <td>0</td>\n",
       "      <td>0.0</td>\n",
       "      <td>79</td>\n",
       "      <td>float64</td>\n",
       "    </tr>\n",
       "    <tr>\n",
       "      <th>VIP</th>\n",
       "      <td>4277</td>\n",
       "      <td>0</td>\n",
       "      <td>0.0</td>\n",
       "      <td>2</td>\n",
       "      <td>int64</td>\n",
       "    </tr>\n",
       "    <tr>\n",
       "      <th>RoomService</th>\n",
       "      <td>4277</td>\n",
       "      <td>0</td>\n",
       "      <td>0.0</td>\n",
       "      <td>843</td>\n",
       "      <td>float64</td>\n",
       "    </tr>\n",
       "    <tr>\n",
       "      <th>FoodCourt</th>\n",
       "      <td>4277</td>\n",
       "      <td>0</td>\n",
       "      <td>0.0</td>\n",
       "      <td>903</td>\n",
       "      <td>float64</td>\n",
       "    </tr>\n",
       "    <tr>\n",
       "      <th>ShoppingMall</th>\n",
       "      <td>4277</td>\n",
       "      <td>0</td>\n",
       "      <td>0.0</td>\n",
       "      <td>716</td>\n",
       "      <td>float64</td>\n",
       "    </tr>\n",
       "    <tr>\n",
       "      <th>Spa</th>\n",
       "      <td>4277</td>\n",
       "      <td>0</td>\n",
       "      <td>0.0</td>\n",
       "      <td>834</td>\n",
       "      <td>float64</td>\n",
       "    </tr>\n",
       "    <tr>\n",
       "      <th>VRDeck</th>\n",
       "      <td>4277</td>\n",
       "      <td>0</td>\n",
       "      <td>0.0</td>\n",
       "      <td>797</td>\n",
       "      <td>float64</td>\n",
       "    </tr>\n",
       "    <tr>\n",
       "      <th>Home_Earth</th>\n",
       "      <td>4277</td>\n",
       "      <td>0</td>\n",
       "      <td>0.0</td>\n",
       "      <td>2</td>\n",
       "      <td>uint8</td>\n",
       "    </tr>\n",
       "    <tr>\n",
       "      <th>Home_Mars</th>\n",
       "      <td>4277</td>\n",
       "      <td>0</td>\n",
       "      <td>0.0</td>\n",
       "      <td>2</td>\n",
       "      <td>uint8</td>\n",
       "    </tr>\n",
       "    <tr>\n",
       "      <th>Home_Europa</th>\n",
       "      <td>4277</td>\n",
       "      <td>0</td>\n",
       "      <td>0.0</td>\n",
       "      <td>2</td>\n",
       "      <td>uint8</td>\n",
       "    </tr>\n",
       "    <tr>\n",
       "      <th>Dest_55 Cancri e</th>\n",
       "      <td>4277</td>\n",
       "      <td>0</td>\n",
       "      <td>0.0</td>\n",
       "      <td>2</td>\n",
       "      <td>uint8</td>\n",
       "    </tr>\n",
       "    <tr>\n",
       "      <th>Dest_PSO J318.5-22</th>\n",
       "      <td>4277</td>\n",
       "      <td>0</td>\n",
       "      <td>0.0</td>\n",
       "      <td>2</td>\n",
       "      <td>uint8</td>\n",
       "    </tr>\n",
       "    <tr>\n",
       "      <th>Dest_TRAPPIST-1e</th>\n",
       "      <td>4277</td>\n",
       "      <td>0</td>\n",
       "      <td>0.0</td>\n",
       "      <td>2</td>\n",
       "      <td>uint8</td>\n",
       "    </tr>\n",
       "    <tr>\n",
       "      <th>total_gasto</th>\n",
       "      <td>4277</td>\n",
       "      <td>0</td>\n",
       "      <td>0.0</td>\n",
       "      <td>1545</td>\n",
       "      <td>float64</td>\n",
       "    </tr>\n",
       "    <tr>\n",
       "      <th>6 a 8 pessoas</th>\n",
       "      <td>4277</td>\n",
       "      <td>0</td>\n",
       "      <td>0.0</td>\n",
       "      <td>2</td>\n",
       "      <td>int64</td>\n",
       "    </tr>\n",
       "    <tr>\n",
       "      <th>1 pessoa</th>\n",
       "      <td>4277</td>\n",
       "      <td>0</td>\n",
       "      <td>0.0</td>\n",
       "      <td>2</td>\n",
       "      <td>int64</td>\n",
       "    </tr>\n",
       "    <tr>\n",
       "      <th>2 pessoas</th>\n",
       "      <td>4277</td>\n",
       "      <td>0</td>\n",
       "      <td>0.0</td>\n",
       "      <td>2</td>\n",
       "      <td>int64</td>\n",
       "    </tr>\n",
       "    <tr>\n",
       "      <th>3 pessoas</th>\n",
       "      <td>4277</td>\n",
       "      <td>0</td>\n",
       "      <td>0.0</td>\n",
       "      <td>2</td>\n",
       "      <td>int64</td>\n",
       "    </tr>\n",
       "    <tr>\n",
       "      <th>4 pessoas</th>\n",
       "      <td>4277</td>\n",
       "      <td>0</td>\n",
       "      <td>0.0</td>\n",
       "      <td>2</td>\n",
       "      <td>int64</td>\n",
       "    </tr>\n",
       "    <tr>\n",
       "      <th>5 pessoas</th>\n",
       "      <td>4277</td>\n",
       "      <td>0</td>\n",
       "      <td>0.0</td>\n",
       "      <td>2</td>\n",
       "      <td>int64</td>\n",
       "    </tr>\n",
       "    <tr>\n",
       "      <th>lado_navio</th>\n",
       "      <td>4277</td>\n",
       "      <td>0</td>\n",
       "      <td>0.0</td>\n",
       "      <td>2</td>\n",
       "      <td>int64</td>\n",
       "    </tr>\n",
       "  </tbody>\n",
       "</table>\n",
       "</div>"
      ],
      "text/plain": [
       "                    Não Nulos  Nulos  % Nulos  Unicos    Dtype\n",
       "Columns                                                       \n",
       "CryoSleep                4277      0      0.0       2    int64\n",
       "Age                      4277      0      0.0      79  float64\n",
       "VIP                      4277      0      0.0       2    int64\n",
       "RoomService              4277      0      0.0     843  float64\n",
       "FoodCourt                4277      0      0.0     903  float64\n",
       "ShoppingMall             4277      0      0.0     716  float64\n",
       "Spa                      4277      0      0.0     834  float64\n",
       "VRDeck                   4277      0      0.0     797  float64\n",
       "Home_Earth               4277      0      0.0       2    uint8\n",
       "Home_Mars                4277      0      0.0       2    uint8\n",
       "Home_Europa              4277      0      0.0       2    uint8\n",
       "Dest_55 Cancri e         4277      0      0.0       2    uint8\n",
       "Dest_PSO J318.5-22       4277      0      0.0       2    uint8\n",
       "Dest_TRAPPIST-1e         4277      0      0.0       2    uint8\n",
       "total_gasto              4277      0      0.0    1545  float64\n",
       "6 a 8 pessoas            4277      0      0.0       2    int64\n",
       "1 pessoa                 4277      0      0.0       2    int64\n",
       "2 pessoas                4277      0      0.0       2    int64\n",
       "3 pessoas                4277      0      0.0       2    int64\n",
       "4 pessoas                4277      0      0.0       2    int64\n",
       "5 pessoas                4277      0      0.0       2    int64\n",
       "lado_navio               4277      0      0.0       2    int64"
      ]
     },
     "execution_count": 46,
     "metadata": {},
     "output_type": "execute_result"
    }
   ],
   "source": [
    "df_informacoes(test)"
   ]
  },
  {
   "attachments": {},
   "cell_type": "markdown",
   "metadata": {},
   "source": [
    "## ML"
   ]
  },
  {
   "cell_type": "code",
   "execution_count": 47,
   "metadata": {},
   "outputs": [],
   "source": [
    "from sklearn.tree import DecisionTreeClassifier\n",
    "from sklearn.model_selection import KFold, cross_val_score,train_test_split\n",
    "from sklearn.metrics import accuracy_score\n",
    "\n",
    "from skopt import dummy_minimize\n",
    "from lightgbm import LGBMClassifier\n",
    "from sklearn.metrics import roc_auc_score\n",
    "from skopt import gp_minimize"
   ]
  },
  {
   "cell_type": "code",
   "execution_count": 48,
   "metadata": {},
   "outputs": [
    {
     "data": {
      "text/plain": [
       "Index(['CryoSleep', 'Age', 'VIP', 'RoomService', 'FoodCourt', 'ShoppingMall',\n",
       "       'Spa', 'VRDeck', 'Transported', 'Home_Earth', 'Home_Mars',\n",
       "       'Home_Europa', 'Dest_55 Cancri e', 'Dest_PSO J318.5-22',\n",
       "       'Dest_TRAPPIST-1e', 'total_gasto', '6 a 8 pessoas', '1 pessoa',\n",
       "       '2 pessoas', '3 pessoas', '4 pessoas', '5 pessoas', 'lado_navio'],\n",
       "      dtype='object')"
      ]
     },
     "execution_count": 48,
     "metadata": {},
     "output_type": "execute_result"
    }
   ],
   "source": [
    "train.columns"
   ]
  },
  {
   "cell_type": "code",
   "execution_count": 49,
   "metadata": {},
   "outputs": [
    {
     "data": {
      "text/plain": [
       "Index(['CryoSleep', 'Age', 'VIP', 'RoomService', 'FoodCourt', 'ShoppingMall',\n",
       "       'Spa', 'VRDeck', 'Home_Earth', 'Home_Mars', 'Home_Europa',\n",
       "       'Dest_55 Cancri e', 'Dest_PSO J318.5-22', 'Dest_TRAPPIST-1e',\n",
       "       'total_gasto', '6 a 8 pessoas', '1 pessoa', '2 pessoas', '3 pessoas',\n",
       "       '4 pessoas', '5 pessoas', 'lado_navio'],\n",
       "      dtype='object')"
      ]
     },
     "execution_count": 49,
     "metadata": {},
     "output_type": "execute_result"
    }
   ],
   "source": [
    "test.columns"
   ]
  },
  {
   "cell_type": "code",
   "execution_count": 50,
   "metadata": {},
   "outputs": [],
   "source": [
    "variaveis = ['CryoSleep', 'Age', 'VIP', 'RoomService', 'FoodCourt', 'ShoppingMall',\n",
    "       'Spa', 'VRDeck', 'Home_Earth', 'Home_Mars',\n",
    "       'Home_Europa', 'Dest_55 Cancri e', 'Dest_PSO J318.5-22',\n",
    "       'Dest_TRAPPIST-1e', 'total_gasto', '6 a 8 pessoas', '1 pessoa',\n",
    "       '2 pessoas', '3 pessoas', '4 pessoas', '5 pessoas', 'lado_navio']\n",
    "X = train[variaveis]\n",
    "y = train['Transported']\n",
    "\n",
    "SEED = 301\n",
    "np.random.seed(SEED)"
   ]
  },
  {
   "cell_type": "code",
   "execution_count": 53,
   "metadata": {},
   "outputs": [
    {
     "name": "stdout",
     "output_type": "stream",
     "text": [
      "Treinaremos com 6085 elementos e testaremos com 2608 elementos\n"
     ]
    }
   ],
   "source": [
    "treino_x, teste_x, treino_y, teste_y = train_test_split(X, y, test_size=0.3, random_state=SEED)\n",
    "print(\"Treinaremos com %d elementos e testaremos com %d elementos\" % (len(treino_x), len(teste_x)))"
   ]
  },
  {
   "cell_type": "code",
   "execution_count": 54,
   "metadata": {},
   "outputs": [
    {
     "data": {
      "text/html": [
       "<style>#sk-container-id-1 {color: black;background-color: white;}#sk-container-id-1 pre{padding: 0;}#sk-container-id-1 div.sk-toggleable {background-color: white;}#sk-container-id-1 label.sk-toggleable__label {cursor: pointer;display: block;width: 100%;margin-bottom: 0;padding: 0.3em;box-sizing: border-box;text-align: center;}#sk-container-id-1 label.sk-toggleable__label-arrow:before {content: \"▸\";float: left;margin-right: 0.25em;color: #696969;}#sk-container-id-1 label.sk-toggleable__label-arrow:hover:before {color: black;}#sk-container-id-1 div.sk-estimator:hover label.sk-toggleable__label-arrow:before {color: black;}#sk-container-id-1 div.sk-toggleable__content {max-height: 0;max-width: 0;overflow: hidden;text-align: left;background-color: #f0f8ff;}#sk-container-id-1 div.sk-toggleable__content pre {margin: 0.2em;color: black;border-radius: 0.25em;background-color: #f0f8ff;}#sk-container-id-1 input.sk-toggleable__control:checked~div.sk-toggleable__content {max-height: 200px;max-width: 100%;overflow: auto;}#sk-container-id-1 input.sk-toggleable__control:checked~label.sk-toggleable__label-arrow:before {content: \"▾\";}#sk-container-id-1 div.sk-estimator input.sk-toggleable__control:checked~label.sk-toggleable__label {background-color: #d4ebff;}#sk-container-id-1 div.sk-label input.sk-toggleable__control:checked~label.sk-toggleable__label {background-color: #d4ebff;}#sk-container-id-1 input.sk-hidden--visually {border: 0;clip: rect(1px 1px 1px 1px);clip: rect(1px, 1px, 1px, 1px);height: 1px;margin: -1px;overflow: hidden;padding: 0;position: absolute;width: 1px;}#sk-container-id-1 div.sk-estimator {font-family: monospace;background-color: #f0f8ff;border: 1px dotted black;border-radius: 0.25em;box-sizing: border-box;margin-bottom: 0.5em;}#sk-container-id-1 div.sk-estimator:hover {background-color: #d4ebff;}#sk-container-id-1 div.sk-parallel-item::after {content: \"\";width: 100%;border-bottom: 1px solid gray;flex-grow: 1;}#sk-container-id-1 div.sk-label:hover label.sk-toggleable__label {background-color: #d4ebff;}#sk-container-id-1 div.sk-serial::before {content: \"\";position: absolute;border-left: 1px solid gray;box-sizing: border-box;top: 0;bottom: 0;left: 50%;z-index: 0;}#sk-container-id-1 div.sk-serial {display: flex;flex-direction: column;align-items: center;background-color: white;padding-right: 0.2em;padding-left: 0.2em;position: relative;}#sk-container-id-1 div.sk-item {position: relative;z-index: 1;}#sk-container-id-1 div.sk-parallel {display: flex;align-items: stretch;justify-content: center;background-color: white;position: relative;}#sk-container-id-1 div.sk-item::before, #sk-container-id-1 div.sk-parallel-item::before {content: \"\";position: absolute;border-left: 1px solid gray;box-sizing: border-box;top: 0;bottom: 0;left: 50%;z-index: -1;}#sk-container-id-1 div.sk-parallel-item {display: flex;flex-direction: column;z-index: 1;position: relative;background-color: white;}#sk-container-id-1 div.sk-parallel-item:first-child::after {align-self: flex-end;width: 50%;}#sk-container-id-1 div.sk-parallel-item:last-child::after {align-self: flex-start;width: 50%;}#sk-container-id-1 div.sk-parallel-item:only-child::after {width: 0;}#sk-container-id-1 div.sk-dashed-wrapped {border: 1px dashed gray;margin: 0 0.4em 0.5em 0.4em;box-sizing: border-box;padding-bottom: 0.4em;background-color: white;}#sk-container-id-1 div.sk-label label {font-family: monospace;font-weight: bold;display: inline-block;line-height: 1.2em;}#sk-container-id-1 div.sk-label-container {text-align: center;}#sk-container-id-1 div.sk-container {/* jupyter's `normalize.less` sets `[hidden] { display: none; }` but bootstrap.min.css set `[hidden] { display: none !important; }` so we also need the `!important` here to be able to override the default hidden behavior on the sphinx rendered scikit-learn.org. See: https://github.com/scikit-learn/scikit-learn/issues/21755 */display: inline-block !important;position: relative;}#sk-container-id-1 div.sk-text-repr-fallback {display: none;}</style><div id=\"sk-container-id-1\" class=\"sk-top-container\"><div class=\"sk-text-repr-fallback\"><pre>LGBMClassifier(random_state=301)</pre><b>In a Jupyter environment, please rerun this cell to show the HTML representation or trust the notebook. <br />On GitHub, the HTML representation is unable to render, please try loading this page with nbviewer.org.</b></div><div class=\"sk-container\" hidden><div class=\"sk-item\"><div class=\"sk-estimator sk-toggleable\"><input class=\"sk-toggleable__control sk-hidden--visually\" id=\"sk-estimator-id-1\" type=\"checkbox\" checked><label for=\"sk-estimator-id-1\" class=\"sk-toggleable__label sk-toggleable__label-arrow\">LGBMClassifier</label><div class=\"sk-toggleable__content\"><pre>LGBMClassifier(random_state=301)</pre></div></div></div></div></div>"
      ],
      "text/plain": [
       "LGBMClassifier(random_state=301)"
      ]
     },
     "execution_count": 54,
     "metadata": {},
     "output_type": "execute_result"
    }
   ],
   "source": [
    "mdl = LGBMClassifier(random_state=SEED)\n",
    "mdl.fit(treino_x,treino_y)"
   ]
  },
  {
   "cell_type": "code",
   "execution_count": 55,
   "metadata": {},
   "outputs": [],
   "source": [
    "p = mdl.predict(teste_x)"
   ]
  },
  {
   "cell_type": "code",
   "execution_count": 56,
   "metadata": {},
   "outputs": [
    {
     "data": {
      "text/plain": [
       "0.7965180458101104"
      ]
     },
     "execution_count": 56,
     "metadata": {},
     "output_type": "execute_result"
    }
   ],
   "source": [
    "roc_auc_score(teste_y,p)"
   ]
  },
  {
   "cell_type": "code",
   "execution_count": 57,
   "metadata": {},
   "outputs": [
    {
     "name": "stdout",
     "output_type": "stream",
     "text": [
      "Iteration No: 1 started. Evaluating function at random point.\n",
      "[0.012244332259626466, 70, 19, 0.8593006190211081, 0.36425300051189846] \n",
      "\n",
      "Iteration No: 1 ended. Evaluation done at random point.\n",
      "Time taken: 0.1760\n",
      "Function value obtained: -0.8775\n",
      "Current minimum: -0.8775\n",
      "Iteration No: 2 started. Evaluating function at random point.\n",
      "[0.09833408507457006, 94, 57, 0.9336407075733751, 0.7765963753291103] \n",
      "\n",
      "Iteration No: 2 ended. Evaluation done at random point.\n",
      "Time taken: 0.2100\n",
      "Function value obtained: -0.8848\n",
      "Current minimum: -0.8848\n",
      "Iteration No: 3 started. Evaluating function at random point.\n",
      "[0.07187712495609859, 96, 53, 0.515437284725449, 0.9921000630321029] \n",
      "\n",
      "Iteration No: 3 ended. Evaluation done at random point.\n",
      "Time taken: 0.1320\n",
      "Function value obtained: -0.8856\n",
      "Current minimum: -0.8856\n",
      "Iteration No: 4 started. Evaluating function at random point.\n",
      "[0.0019779758071469815, 43, 41, 0.16003385221219057, 0.774626944959484] \n",
      "\n",
      "Iteration No: 4 ended. Evaluation done at random point.\n",
      "Time taken: 0.0730\n",
      "Function value obtained: -0.8706\n",
      "Current minimum: -0.8856\n",
      "Iteration No: 5 started. Evaluating function at random point.\n",
      "[0.048132658955570305, 128, 77, 0.40006530404517177, 0.9038834020161249] \n",
      "\n",
      "Iteration No: 5 ended. Evaluation done at random point.\n",
      "Time taken: 0.1050\n",
      "Function value obtained: -0.8901\n",
      "Current minimum: -0.8901\n",
      "Iteration No: 6 started. Evaluating function at random point.\n",
      "[0.0999484128671084, 95, 43, 0.38196118973538734, 0.34313070575447324] \n",
      "\n",
      "Iteration No: 6 ended. Evaluation done at random point.\n",
      "Time taken: 0.1140\n",
      "Function value obtained: -0.8827\n",
      "Current minimum: -0.8901\n",
      "Iteration No: 7 started. Evaluating function at random point.\n",
      "[0.06613738748912461, 73, 65, 0.2800226734127647, 0.8387448916300672] \n",
      "\n",
      "Iteration No: 7 ended. Evaluation done at random point.\n",
      "Time taken: 0.0890\n",
      "Function value obtained: -0.8874\n",
      "Current minimum: -0.8901\n",
      "Iteration No: 8 started. Evaluating function at random point.\n",
      "[0.009454340002403507, 76, 94, 0.7216236054222902, 0.13851266511080065] \n",
      "\n",
      "Iteration No: 8 ended. Evaluation done at random point.\n",
      "Time taken: 0.0740\n",
      "Function value obtained: -0.8546\n",
      "Current minimum: -0.8901\n",
      "Iteration No: 9 started. Evaluating function at random point.\n",
      "[0.04536156502499449, 21, 73, 0.5479171578924936, 0.91249864264177] \n",
      "\n",
      "Iteration No: 9 ended. Evaluation done at random point.\n",
      "Time taken: 0.0940\n",
      "Function value obtained: -0.8912\n",
      "Current minimum: -0.8912\n",
      "Iteration No: 10 started. Evaluating function at random point.\n",
      "[0.0697754338697841, 64, 20, 0.5446586906782996, 0.579808520989969] \n",
      "\n",
      "Iteration No: 10 ended. Evaluation done at random point.\n",
      "Time taken: 0.1700\n",
      "Function value obtained: -0.8848\n",
      "Current minimum: -0.8912\n",
      "Iteration No: 11 started. Evaluating function at random point.\n",
      "[0.033795052739731955, 108, 90, 0.4888661711133776, 0.9352548785408756] \n",
      "\n",
      "Iteration No: 11 ended. Evaluation done at random point.\n",
      "Time taken: 0.1080\n",
      "Function value obtained: -0.8893\n",
      "Current minimum: -0.8912\n",
      "Iteration No: 12 started. Evaluating function at random point.\n",
      "[0.061454175900983406, 43, 13, 0.7899593380603661, 0.23858316013193065] \n",
      "\n",
      "Iteration No: 12 ended. Evaluation done at random point.\n",
      "Time taken: 0.1120\n",
      "Function value obtained: -0.8818\n",
      "Current minimum: -0.8912\n",
      "Iteration No: 13 started. Evaluating function at random point.\n",
      "[0.050167722169276695, 56, 28, 0.7682025248206467, 0.9513691415074893] \n",
      "\n",
      "Iteration No: 13 ended. Evaluation done at random point.\n",
      "Time taken: 0.1640\n",
      "Function value obtained: -0.8886\n",
      "Current minimum: -0.8912\n",
      "Iteration No: 14 started. Evaluating function at random point.\n",
      "[0.053519133983066396, 42, 57, 0.5938657729103962, 0.36395919893283324] \n",
      "\n",
      "Iteration No: 14 ended. Evaluation done at random point.\n",
      "Time taken: 0.1310\n",
      "Function value obtained: -0.8878\n",
      "Current minimum: -0.8912\n",
      "Iteration No: 15 started. Evaluating function at random point.\n",
      "[0.054591718776469, 13, 47, 0.3588222103645376, 0.8086339770316745] \n",
      "\n",
      "Iteration No: 15 ended. Evaluation done at random point.\n",
      "Time taken: 0.0840\n",
      "Function value obtained: -0.8896\n",
      "Current minimum: -0.8912\n",
      "Iteration No: 16 started. Evaluating function at random point.\n",
      "[0.02469497485709354, 86, 63, 0.20153461078385876, 0.19418876740566907] \n",
      "\n",
      "Iteration No: 16 ended. Evaluation done at random point.\n",
      "Time taken: 0.0660\n",
      "Function value obtained: -0.8623\n",
      "Current minimum: -0.8912\n",
      "Iteration No: 17 started. Evaluating function at random point.\n",
      "[0.014479123789628907, 108, 51, 0.9536981080450236, 0.5449098334588475] \n",
      "\n",
      "Iteration No: 17 ended. Evaluation done at random point.\n",
      "Time taken: 0.2000\n",
      "Function value obtained: -0.8875\n",
      "Current minimum: -0.8912\n",
      "Iteration No: 18 started. Evaluating function at random point.\n",
      "[0.04169194385704, 97, 74, 0.6434345917651494, 0.260093954367657] \n",
      "\n",
      "Iteration No: 18 ended. Evaluation done at random point.\n",
      "Time taken: 0.1010\n",
      "Function value obtained: -0.8814\n",
      "Current minimum: -0.8912\n",
      "Iteration No: 19 started. Evaluating function at random point.\n",
      "[0.07615922670793966, 94, 25, 0.5583805427138248, 0.20762527199740305] \n",
      "\n",
      "Iteration No: 19 ended. Evaluation done at random point.\n",
      "Time taken: 0.1350\n",
      "Function value obtained: -0.8790\n",
      "Current minimum: -0.8912\n",
      "Iteration No: 20 started. Evaluating function at random point.\n",
      "[0.022874179544681763, 12, 61, 0.33900630261857934, 0.44203882679609785] \n",
      "\n",
      "Iteration No: 20 ended. Evaluation done at random point.\n",
      "Time taken: 0.0740\n",
      "Function value obtained: -0.8775\n",
      "Current minimum: -0.8912\n",
      "Iteration No: 21 started. Evaluating function at random point.\n",
      "[0.08076201794007834, 123, 61, 0.28609750060233224, 0.5276736619892417] \n",
      "\n",
      "Iteration No: 21 ended. Evaluation done at random point.\n",
      "Time taken: 0.0940\n",
      "Function value obtained: -0.8860\n",
      "Current minimum: -0.8912\n",
      "Iteration No: 22 started. Evaluating function at random point.\n",
      "[0.029719131014910253, 33, 15, 0.9163377741906785, 0.26366846388766807] \n",
      "\n",
      "Iteration No: 22 ended. Evaluation done at random point.\n",
      "Time taken: 0.1050\n",
      "Function value obtained: -0.8794\n",
      "Current minimum: -0.8912\n",
      "Iteration No: 23 started. Evaluating function at random point.\n",
      "[0.03595991155887512, 61, 27, 0.9277723401776952, 0.3813210950449454] \n",
      "\n",
      "Iteration No: 23 ended. Evaluation done at random point.\n",
      "Time taken: 0.1630\n",
      "Function value obtained: -0.8875\n",
      "Current minimum: -0.8912\n",
      "Iteration No: 24 started. Evaluating function at random point.\n",
      "[0.01718485005602344, 83, 57, 0.13773996685718443, 0.8558144225872059] \n",
      "\n",
      "Iteration No: 24 ended. Evaluation done at random point.\n",
      "Time taken: 0.0670\n",
      "Function value obtained: -0.8719\n",
      "Current minimum: -0.8912\n",
      "Iteration No: 25 started. Evaluating function at random point.\n",
      "[0.056493818345760546, 16, 52, 0.3396947192189734, 0.5475592952179309] \n",
      "\n",
      "Iteration No: 25 ended. Evaluation done at random point.\n",
      "Time taken: 0.1010\n",
      "Function value obtained: -0.8886\n",
      "Current minimum: -0.8912\n",
      "Iteration No: 26 started. Evaluating function at random point.\n",
      "[0.0705361693208973, 21, 90, 0.37016796191216894, 0.35323516607680483] \n",
      "\n",
      "Iteration No: 26 ended. Evaluation done at random point.\n",
      "Time taken: 0.0800\n",
      "Function value obtained: -0.8851\n",
      "Current minimum: -0.8912\n",
      "Iteration No: 27 started. Evaluating function at random point.\n",
      "[0.09799321818061671, 122, 34, 0.9131362866187727, 0.8906016050917004] \n",
      "\n",
      "Iteration No: 27 ended. Evaluation done at random point.\n",
      "Time taken: 0.2840\n",
      "Function value obtained: -0.8810\n",
      "Current minimum: -0.8912\n",
      "Iteration No: 28 started. Evaluating function at random point.\n",
      "[0.08137103566639273, 92, 97, 0.9851731676040851, 0.22829727144776435] \n",
      "\n",
      "Iteration No: 28 ended. Evaluation done at random point.\n",
      "Time taken: 0.0980\n",
      "Function value obtained: -0.8869\n",
      "Current minimum: -0.8912\n",
      "Iteration No: 29 started. Evaluating function at random point.\n",
      "[0.0699462404635552, 24, 11, 0.599282442128096, 0.31707623006510305] \n",
      "\n",
      "Iteration No: 29 ended. Evaluation done at random point.\n",
      "Time taken: 0.0890\n",
      "Function value obtained: -0.8877\n",
      "Current minimum: -0.8912\n",
      "Iteration No: 30 started. Evaluating function at random point.\n",
      "[0.054554116216718455, 94, 35, 0.1628585124837474, 0.13596657993476852] \n",
      "\n",
      "Iteration No: 30 ended. Evaluation done at random point.\n",
      "Time taken: 0.0660\n",
      "Function value obtained: -0.8628\n",
      "Current minimum: -0.8912\n"
     ]
    }
   ],
   "source": [
    "def treinar_modelo(params):\n",
    "    learning_rate = params[0]\n",
    "    num_levaes = params[1]\n",
    "    min_child_samples = params[2]\n",
    "    subsample = params[3]\n",
    "    colsample_bytree = params[4]\n",
    "\n",
    "    print(params, '\\n')\n",
    "\n",
    "\n",
    "    mdl = LGBMClassifier(learning_rate=learning_rate, num_leaves=num_levaes, min_child_samples=min_child_samples, \n",
    "                         subsample=subsample, colsample_bytree=colsample_bytree, random_state=SEED, subsample_freq=1,\n",
    "                         n_estimators=100)\n",
    "    mdl.fit(treino_x,treino_y)\n",
    "\n",
    "    p = mdl.predict_proba(teste_x)[:,1]\n",
    "\n",
    "    return -roc_auc_score(teste_y, p)\n",
    "\n",
    "space = [(1e-3, 1e-1), #learning_rate\n",
    "         (2,128), #num_leaves\n",
    "         (1,100), #min_child_samples\n",
    "         (0.05,1.0), #subsample\n",
    "         (0.1,1.0)] #colsample_bytree\n",
    "\n",
    "resultado = dummy_minimize(treinar_modelo, space, random_state=SEED, verbose=1, n_calls=30)\n"
   ]
  },
  {
   "cell_type": "code",
   "execution_count": 58,
   "metadata": {},
   "outputs": [
    {
     "data": {
      "text/plain": [
       "[0.04536156502499449, 21, 73, 0.5479171578924936, 0.91249864264177]"
      ]
     },
     "execution_count": 58,
     "metadata": {},
     "output_type": "execute_result"
    }
   ],
   "source": [
    "resultado.x"
   ]
  },
  {
   "cell_type": "code",
   "execution_count": 59,
   "metadata": {},
   "outputs": [
    {
     "data": {
      "text/plain": [
       "0.7967791411042945"
      ]
     },
     "execution_count": 59,
     "metadata": {},
     "output_type": "execute_result"
    }
   ],
   "source": [
    "score = accuracy_score(teste_y, p)\n",
    "score"
   ]
  },
  {
   "attachments": {},
   "cell_type": "markdown",
   "metadata": {},
   "source": [
    "BAYESIAN OPTIMIZATION"
   ]
  },
  {
   "cell_type": "code",
   "execution_count": 61,
   "metadata": {},
   "outputs": [
    {
     "name": "stdout",
     "output_type": "stream",
     "text": [
      "Iteration No: 1 started. Evaluating function at random point.\n",
      "[0.012244332259626466, 32, 85, 0.32893372276255944, 0.9848553188597278] \n",
      "\n",
      "Iteration No: 1 ended. Evaluation done at random point.\n",
      "Time taken: 0.1340\n",
      "Function value obtained: -0.8796\n",
      "Current minimum: -0.8796\n",
      "Iteration No: 2 started. Evaluating function at random point.\n",
      "[0.05266149594356653, 51, 47, 0.7569144597659561, 0.5616331922867488] \n",
      "\n",
      "Iteration No: 2 ended. Evaluation done at random point.\n",
      "Time taken: 0.2000\n",
      "Function value obtained: -0.8909\n",
      "Current minimum: -0.8909\n",
      "Iteration No: 3 started. Evaluating function at random point.\n",
      "[0.09007724075963722, 64, 99, 0.05938461633120841, 0.49317885858260035] \n",
      "\n",
      "Iteration No: 3 ended. Evaluation done at random point.\n",
      "Time taken: 0.0450\n",
      "Function value obtained: -0.8326\n",
      "Current minimum: -0.8909\n",
      "Iteration No: 4 started. Evaluating function at random point.\n",
      "[0.012466685651586179, 96, 48, 0.9261924845836879, 0.4316408143585838] \n",
      "\n",
      "Iteration No: 4 ended. Evaluation done at random point.\n",
      "Time taken: 0.1730\n",
      "Function value obtained: -0.8792\n",
      "Current minimum: -0.8909\n",
      "Iteration No: 5 started. Evaluating function at random point.\n",
      "[0.08942717422177375, 128, 15, 0.38196118973538734, 0.3431307057544733] \n",
      "\n",
      "Iteration No: 5 ended. Evaluation done at random point.\n",
      "Time taken: 0.2330\n",
      "Function value obtained: -0.8792\n",
      "Current minimum: -0.8909\n",
      "Iteration No: 6 started. Evaluating function at random point.\n",
      "[0.06613738748912461, 113, 86, 0.7139472971095613, 0.32619383168859506] \n",
      "\n",
      "Iteration No: 6 ended. Evaluation done at random point.\n",
      "Time taken: 0.1210\n",
      "Function value obtained: -0.8875\n",
      "Current minimum: -0.8909\n",
      "Iteration No: 7 started. Evaluating function at random point.\n",
      "[0.04886211406467531, 46, 55, 0.640948273916932, 0.9103965327388568] \n",
      "\n",
      "Iteration No: 7 ended. Evaluation done at random point.\n",
      "Time taken: 0.1450\n",
      "Function value obtained: -0.8903\n",
      "Current minimum: -0.8909\n",
      "Iteration No: 8 started. Evaluating function at random point.\n",
      "[0.0781790234091722, 41, 75, 0.8083768633005493, 0.22015152965035278] \n",
      "\n",
      "Iteration No: 8 ended. Evaluation done at random point.\n",
      "Time taken: 0.0980\n",
      "Function value obtained: -0.8834\n",
      "Current minimum: -0.8909\n",
      "Iteration No: 9 started. Evaluating function at random point.\n",
      "[0.08606026348135355, 75, 85, 0.5908954371678673, 0.16565636259144506] \n",
      "\n",
      "Iteration No: 9 ended. Evaluation done at random point.\n",
      "Time taken: 0.0760\n",
      "Function value obtained: -0.8756\n",
      "Current minimum: -0.8909\n",
      "Iteration No: 10 started. Evaluating function at random point.\n",
      "[0.093007138795242, 86, 58, 0.3515252853926967, 0.3054332996799287] \n",
      "\n",
      "Iteration No: 10 ended. Evaluation done at random point.\n",
      "Time taken: 0.6491\n",
      "Function value obtained: -0.8863\n",
      "Current minimum: -0.8909\n",
      "Iteration No: 11 started. Searching for the next optimal point.\n",
      "[0.001, 2, 1, 0.7394607362711775, 1.0] \n",
      "\n",
      "Iteration No: 11 ended. Search finished for the next optimal point.\n",
      "Time taken: 0.4630\n",
      "Function value obtained: -0.7470\n",
      "Current minimum: -0.8909\n",
      "Iteration No: 12 started. Searching for the next optimal point.\n",
      "[0.1, 128, 39, 1.0, 1.0] \n",
      "\n",
      "Iteration No: 12 ended. Search finished for the next optimal point.\n",
      "Time taken: 0.8061\n",
      "Function value obtained: -0.8791\n",
      "Current minimum: -0.8909\n",
      "Iteration No: 13 started. Searching for the next optimal point.\n",
      "[0.05380827459751863, 105, 7, 0.05955063345381487, 0.18386384267625902] \n",
      "\n",
      "Iteration No: 13 ended. Search finished for the next optimal point.\n",
      "Time taken: 0.6120\n",
      "Function value obtained: -0.8689\n",
      "Current minimum: -0.8909\n",
      "Iteration No: 14 started. Searching for the next optimal point.\n",
      "[0.001, 119, 95, 0.06584410561271808, 0.1] \n",
      "\n",
      "Iteration No: 14 ended. Search finished for the next optimal point.\n",
      "Time taken: 0.4990\n",
      "Function value obtained: -0.8002\n",
      "Current minimum: -0.8909\n",
      "Iteration No: 15 started. Searching for the next optimal point.\n",
      "[0.1, 128, 87, 1.0, 1.0] \n",
      "\n",
      "Iteration No: 15 ended. Search finished for the next optimal point.\n",
      "Time taken: 0.6650\n",
      "Function value obtained: -0.8848\n",
      "Current minimum: -0.8909\n",
      "Iteration No: 16 started. Searching for the next optimal point.\n",
      "[0.09049578814303075, 98, 100, 1.0, 0.10756672966770225] \n",
      "\n",
      "Iteration No: 16 ended. Search finished for the next optimal point.\n",
      "Time taken: 0.4620\n",
      "Function value obtained: -0.8614\n",
      "Current minimum: -0.8909\n",
      "Iteration No: 17 started. Searching for the next optimal point.\n",
      "[0.09704523026746077, 2, 51, 0.05, 0.10861611095014279] \n",
      "\n",
      "Iteration No: 17 ended. Search finished for the next optimal point.\n",
      "Time taken: 0.5710\n",
      "Function value obtained: -0.8404\n",
      "Current minimum: -0.8909\n",
      "Iteration No: 18 started. Searching for the next optimal point.\n",
      "[0.08879819518484984, 128, 64, 0.6905699852495416, 0.9450697546757741] \n",
      "\n",
      "Iteration No: 18 ended. Search finished for the next optimal point.\n",
      "Time taken: 0.7621\n",
      "Function value obtained: -0.8853\n",
      "Current minimum: -0.8909\n",
      "Iteration No: 19 started. Searching for the next optimal point.\n",
      "[0.001, 76, 1, 0.9632777203060289, 0.35465972182094885] \n",
      "\n",
      "Iteration No: 19 ended. Search finished for the next optimal point.\n",
      "Time taken: 0.7441\n",
      "Function value obtained: -0.8718\n",
      "Current minimum: -0.8909\n",
      "Iteration No: 20 started. Searching for the next optimal point.\n",
      "[0.08792143421735947, 118, 100, 1.0, 1.0] \n",
      "\n",
      "Iteration No: 20 ended. Search finished for the next optimal point.\n",
      "Time taken: 0.6891\n",
      "Function value obtained: -0.8871\n",
      "Current minimum: -0.8909\n",
      "Iteration No: 21 started. Searching for the next optimal point.\n",
      "[0.001, 52, 1, 0.6339410189563953, 0.19365773671564385] \n",
      "\n",
      "Iteration No: 21 ended. Search finished for the next optimal point.\n",
      "Time taken: 0.7831\n",
      "Function value obtained: -0.8541\n",
      "Current minimum: -0.8909\n",
      "Iteration No: 22 started. Searching for the next optimal point.\n",
      "[0.046084745182722923, 84, 100, 0.985649834553024, 0.47952579773597004] \n",
      "\n",
      "Iteration No: 22 ended. Search finished for the next optimal point.\n",
      "Time taken: 0.6730\n",
      "Function value obtained: -0.8909\n",
      "Current minimum: -0.8909\n",
      "Iteration No: 23 started. Searching for the next optimal point.\n",
      "[0.1, 25, 1, 0.7428373835537592, 0.8946729541132437] \n",
      "\n",
      "Iteration No: 23 ended. Search finished for the next optimal point.\n",
      "Time taken: 0.6500\n",
      "Function value obtained: -0.8864\n",
      "Current minimum: -0.8909\n",
      "Iteration No: 24 started. Searching for the next optimal point.\n",
      "[0.05925283957644784, 32, 1, 0.8954775287355338, 0.43271714079280876] \n",
      "\n",
      "Iteration No: 24 ended. Search finished for the next optimal point.\n",
      "Time taken: 0.7311\n",
      "Function value obtained: -0.8922\n",
      "Current minimum: -0.8922\n",
      "Iteration No: 25 started. Searching for the next optimal point.\n",
      "[0.0674485329315864, 82, 1, 0.28758588220583586, 0.9548221180462055] \n",
      "\n",
      "Iteration No: 25 ended. Search finished for the next optimal point.\n",
      "Time taken: 0.9101\n",
      "Function value obtained: -0.8831\n",
      "Current minimum: -0.8922\n",
      "Iteration No: 26 started. Searching for the next optimal point.\n",
      "[0.001, 87, 100, 0.05, 0.8885266858857622] \n",
      "\n",
      "Iteration No: 26 ended. Search finished for the next optimal point.\n",
      "Time taken: 0.7591\n",
      "Function value obtained: -0.7807\n",
      "Current minimum: -0.8922\n",
      "Iteration No: 27 started. Searching for the next optimal point.\n",
      "[0.044406244320151035, 128, 100, 1.0, 0.5318051301822404] \n",
      "\n",
      "Iteration No: 27 ended. Search finished for the next optimal point.\n",
      "Time taken: 0.8041\n",
      "Function value obtained: -0.8904\n",
      "Current minimum: -0.8922\n",
      "Iteration No: 28 started. Searching for the next optimal point.\n",
      "[0.03519574829397708, 13, 100, 0.4453458493942311, 0.1] \n",
      "\n",
      "Iteration No: 28 ended. Search finished for the next optimal point.\n",
      "Time taken: 0.7741\n",
      "Function value obtained: -0.8453\n",
      "Current minimum: -0.8922\n",
      "Iteration No: 29 started. Searching for the next optimal point.\n",
      "[0.1, 104, 1, 0.05, 0.4841910241354932] \n",
      "\n",
      "Iteration No: 29 ended. Search finished for the next optimal point.\n",
      "Time taken: 0.8901\n",
      "Function value obtained: -0.6748\n",
      "Current minimum: -0.8922\n",
      "Iteration No: 30 started. Searching for the next optimal point.\n",
      "[0.017545756309792052, 66, 100, 0.419466052640119, 0.9756607290119473] \n",
      "\n",
      "Iteration No: 30 ended. Search finished for the next optimal point.\n",
      "Time taken: 0.6290\n",
      "Function value obtained: -0.8830\n",
      "Current minimum: -0.8922\n"
     ]
    }
   ],
   "source": [
    "resultados_gp = gp_minimize(treinar_modelo, space, random_state=SEED, verbose=1, n_calls=30, n_random_starts=10)"
   ]
  },
  {
   "cell_type": "code",
   "execution_count": 62,
   "metadata": {},
   "outputs": [
    {
     "data": {
      "text/plain": [
       "[0.05925283957644784, 32, 1, 0.8954775287355338, 0.43271714079280876]"
      ]
     },
     "execution_count": 62,
     "metadata": {},
     "output_type": "execute_result"
    }
   ],
   "source": [
    "resultados_gp.x"
   ]
  },
  {
   "cell_type": "code",
   "execution_count": 63,
   "metadata": {},
   "outputs": [
    {
     "data": {
      "text/plain": [
       "4277"
      ]
     },
     "execution_count": 63,
     "metadata": {},
     "output_type": "execute_result"
    }
   ],
   "source": [
    "# Cria o classificador\n",
    "modelofinal = LGBMClassifier(learning_rate=0.05925283957644784, num_leaves=32, min_child_samples=1, \n",
    "                         subsample=0.8954775287355338, colsample_bytree=0.43271714079280876, random_state=SEED, subsample_freq=1,\n",
    "                         n_estimators=100)\n",
    "                         \n",
    "modelofinal.fit(treino_x, treino_y)\n",
    "score = modelofinal.score(teste_x, teste_y)\n",
    "y_pred = modelofinal.predict(test) #pra aplicar o modelo no dataframe de teste  \n",
    "len(y_pred)\n"
   ]
  },
  {
   "cell_type": "code",
   "execution_count": null,
   "metadata": {},
   "outputs": [],
   "source": [
    "#não apresentou um resultado melhor\n",
    "#cross = cross_val_score(modelofinal, X, y)\n",
    "#print('O modelo de Random forest teve a acurácia de:', np.mean(cross))"
   ]
  },
  {
   "cell_type": "code",
   "execution_count": 64,
   "metadata": {},
   "outputs": [],
   "source": [
    "def transf_predict(valor):\n",
    "    if valor == 1:\n",
    "        return True\n",
    "    elif valor == 0:\n",
    "        return False"
   ]
  },
  {
   "cell_type": "code",
   "execution_count": 65,
   "metadata": {},
   "outputs": [
    {
     "data": {
      "text/plain": [
       "'Com isso iremos fazer o predict no conjunto de teste e criar uma nova coluna chamada Transported, \\n    essa coluna irá receber a função para transformar o 1 e 0 em True e False.'"
      ]
     },
     "execution_count": 65,
     "metadata": {},
     "output_type": "execute_result"
    }
   ],
   "source": [
    "test['Transported'] = y_pred\n",
    "test['Transported'] = test['Transported'].map(transf_predict)\n",
    "\n",
    "pred = test['Transported'].values\n",
    "\n",
    "'''Com isso iremos fazer o predict no conjunto de teste e criar uma nova coluna chamada Transported, \n",
    "    essa coluna irá receber a função para transformar o 1 e 0 em True e False.'''\n"
   ]
  },
  {
   "cell_type": "code",
   "execution_count": 66,
   "metadata": {},
   "outputs": [],
   "source": [
    "''' Salvando o arquivo em .csv para fazer o submission no link da competição.'''\n",
    "sub = pd.Series(pred, index=test1, name='Transported')\n",
    "sub.to_csv('submission.csv', header=True)"
   ]
  }
 ],
 "metadata": {
  "kernelspec": {
   "display_name": "base",
   "language": "python",
   "name": "python3"
  },
  "language_info": {
   "codemirror_mode": {
    "name": "ipython",
    "version": 3
   },
   "file_extension": ".py",
   "mimetype": "text/x-python",
   "name": "python",
   "nbconvert_exporter": "python",
   "pygments_lexer": "ipython3",
   "version": "3.9.13 (main, Aug 25 2022, 23:51:50) [MSC v.1916 64 bit (AMD64)]"
  },
  "orig_nbformat": 4,
  "vscode": {
   "interpreter": {
    "hash": "d99a00e813c5279a7f8ca98ebc657524a2e2fff24a7d087a75b54cde398de35e"
   }
  }
 },
 "nbformat": 4,
 "nbformat_minor": 2
}
